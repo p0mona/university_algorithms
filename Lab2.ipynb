{
  "cells": [
    {
      "cell_type": "code",
      "execution_count": 1,
      "metadata": {
        "colab": {
          "base_uri": "https://localhost:8080/"
        },
        "id": "b2CkTnGuz9jA",
        "outputId": "57900a0c-9dbe-4f55-c161-e534415db353"
      },
      "outputs": [
        {
          "name": "stdout",
          "output_type": "stream",
          "text": [
            "range(0, 12)\n"
          ]
        }
      ],
      "source": [
        "print(range(12))"
      ]
    },
    {
      "cell_type": "code",
      "execution_count": 2,
      "metadata": {
        "colab": {
          "base_uri": "https://localhost:8080/"
        },
        "id": "l8OVpzRs0AeY",
        "outputId": "a71a0f3f-e2bd-43f6-8c9b-364f66aa7002"
      },
      "outputs": [
        {
          "name": "stdout",
          "output_type": "stream",
          "text": [
            "range(0, 12)\n"
          ]
        }
      ],
      "source": [
        "print(range(0, 12))"
      ]
    },
    {
      "cell_type": "code",
      "execution_count": 3,
      "metadata": {
        "colab": {
          "base_uri": "https://localhost:8080/"
        },
        "id": "fuNSNOGV0Ag3",
        "outputId": "0bd0177f-9ad7-4c2a-cbd4-52d0af2d83fb"
      },
      "outputs": [
        {
          "name": "stdout",
          "output_type": "stream",
          "text": [
            "[0, 1, 2, 3, 4, 5, 6, 7, 8, 9, 10, 11]\n"
          ]
        }
      ],
      "source": [
        "print(list(range(12)))"
      ]
    },
    {
      "cell_type": "code",
      "execution_count": 4,
      "metadata": {
        "colab": {
          "base_uri": "https://localhost:8080/"
        },
        "id": "QW1P5Vws0AiT",
        "outputId": "6a36019a-c316-4ac7-b71b-ae7bb30a210d"
      },
      "outputs": [
        {
          "name": "stdout",
          "output_type": "stream",
          "text": [
            "[90, 91, 92, 93, 94, 95, 96, 97, 98, 99]\n"
          ]
        }
      ],
      "source": [
        "print(list(range(90,100)))"
      ]
    },
    {
      "cell_type": "code",
      "execution_count": 5,
      "metadata": {
        "colab": {
          "base_uri": "https://localhost:8080/"
        },
        "id": "UyUODxUI04Fq",
        "outputId": "6f6ee884-1349-4247-c9a8-6bdae329a9bf"
      },
      "outputs": [
        {
          "name": "stdout",
          "output_type": "stream",
          "text": [
            "[90, 92, 94, 96, 98]\n"
          ]
        }
      ],
      "source": [
        "print(list(range(90,100,2)))"
      ]
    },
    {
      "cell_type": "code",
      "execution_count": 6,
      "metadata": {
        "colab": {
          "base_uri": "https://localhost:8080/"
        },
        "id": "6o8tYhoi04Hw",
        "outputId": "1b3044f7-48e6-4db6-e3ed-8f5d381a1f67"
      },
      "outputs": [
        {
          "name": "stdout",
          "output_type": "stream",
          "text": [
            "[0, 3, 6, 9, 12, 15, 18, 21, 24, 27, 30]\n"
          ]
        }
      ],
      "source": [
        "print(list(range(0,31,3)))"
      ]
    },
    {
      "cell_type": "code",
      "execution_count": 7,
      "metadata": {
        "colab": {
          "base_uri": "https://localhost:8080/"
        },
        "id": "dbWasp_l1XQi",
        "outputId": "51210f5b-2011-4996-db60-99ed0bfd29ae"
      },
      "outputs": [
        {
          "name": "stdout",
          "output_type": "stream",
          "text": [
            "[100, 99, 98, 97, 96, 95, 94, 93, 92, 91]\n"
          ]
        }
      ],
      "source": [
        "print(list(range(100,90,-1)))"
      ]
    },
    {
      "cell_type": "code",
      "execution_count": 8,
      "metadata": {
        "colab": {
          "base_uri": "https://localhost:8080/"
        },
        "id": "vXzRNfpk1XTh",
        "outputId": "3888f1f9-765d-4f37-d11a-1bfe52d82a9c"
      },
      "outputs": [
        {
          "name": "stdout",
          "output_type": "stream",
          "text": [
            "[100, 98, 96, 94, 92, 90]\n"
          ]
        }
      ],
      "source": [
        "print(list(range(100,89,-2)))"
      ]
    },
    {
      "cell_type": "code",
      "execution_count": 9,
      "metadata": {
        "id": "RGeuozfw1XWh"
      },
      "outputs": [],
      "source": [
        "tuple_1 = (9,10)"
      ]
    },
    {
      "cell_type": "code",
      "execution_count": 10,
      "metadata": {
        "colab": {
          "base_uri": "https://localhost:8080/"
        },
        "id": "X8IWZYJ21XZa",
        "outputId": "7f6b9fca-b853-4b0c-a92b-7ad3193e074b"
      },
      "outputs": [
        {
          "data": {
            "text/plain": [
              "(9, 10)"
            ]
          },
          "execution_count": 10,
          "metadata": {},
          "output_type": "execute_result"
        }
      ],
      "source": [
        "tuple_1"
      ]
    },
    {
      "cell_type": "code",
      "execution_count": 11,
      "metadata": {
        "colab": {
          "base_uri": "https://localhost:8080/"
        },
        "id": "-P8P-YEt1Xcp",
        "outputId": "573e5b2a-1de7-49b2-c4d5-1cd20ec3c9b3"
      },
      "outputs": [
        {
          "data": {
            "text/plain": [
              "9"
            ]
          },
          "execution_count": 11,
          "metadata": {},
          "output_type": "execute_result"
        }
      ],
      "source": [
        "tuple_1[0] #indeksacja i wyzow"
      ]
    },
    {
      "cell_type": "code",
      "execution_count": 12,
      "metadata": {
        "id": "noVt0Lx61-Dl"
      },
      "outputs": [],
      "source": [
        "tuple_2 = (9,10, \"Italy\", [\"green\", \"white\", \"red\"])"
      ]
    },
    {
      "cell_type": "code",
      "execution_count": 13,
      "metadata": {
        "colab": {
          "base_uri": "https://localhost:8080/"
        },
        "id": "KcD9eX-J1-G7",
        "outputId": "486d4e6e-1153-4135-d087-f5e295ffaeb6"
      },
      "outputs": [
        {
          "data": {
            "text/plain": [
              "(9, 10, 'Italy', ['green', 'white', 'red'])"
            ]
          },
          "execution_count": 13,
          "metadata": {},
          "output_type": "execute_result"
        }
      ],
      "source": [
        "tuple_2"
      ]
    },
    {
      "cell_type": "code",
      "execution_count": 14,
      "metadata": {
        "colab": {
          "base_uri": "https://localhost:8080/",
          "height": 35
        },
        "id": "WwxNdrrW1-Iz",
        "outputId": "0da2f49c-f68b-49ce-9608-c964d1a1ec88"
      },
      "outputs": [
        {
          "data": {
            "text/plain": [
              "'red'"
            ]
          },
          "execution_count": 14,
          "metadata": {},
          "output_type": "execute_result"
        }
      ],
      "source": [
        "tuple_2[3][2]"
      ]
    },
    {
      "cell_type": "code",
      "execution_count": 15,
      "metadata": {
        "colab": {
          "base_uri": "https://localhost:8080/"
        },
        "id": "fnD4JnfV1-Ke",
        "outputId": "6edb3868-bde7-436a-8a25-884412700f6f"
      },
      "outputs": [
        {
          "data": {
            "text/plain": [
              "(9, 10, 'Italy', ['green', 'white', 'red'], 11)"
            ]
          },
          "execution_count": 15,
          "metadata": {},
          "output_type": "execute_result"
        }
      ],
      "source": [
        "(*tuple_2,11)"
      ]
    },
    {
      "cell_type": "code",
      "execution_count": 16,
      "metadata": {
        "colab": {
          "base_uri": "https://localhost:8080/"
        },
        "id": "dnS6BKzF1-Ns",
        "outputId": "0ed05795-976e-4c23-807f-88b0177b289a"
      },
      "outputs": [
        {
          "data": {
            "text/plain": [
              "[1, 2, 3, 4, 11]"
            ]
          },
          "execution_count": 16,
          "metadata": {},
          "output_type": "execute_result"
        }
      ],
      "source": [
        "l_1 = [1,2,3,4]\n",
        "[*l_1, 11]"
      ]
    },
    {
      "cell_type": "code",
      "execution_count": 17,
      "metadata": {
        "colab": {
          "base_uri": "https://localhost:8080/"
        },
        "id": "1j8M4NDF1-Pz",
        "outputId": "d4a1afd2-e1ae-47d6-abb7-1dd73c902a36"
      },
      "outputs": [
        {
          "data": {
            "text/plain": [
              "(9, 10, 'Italy', ['green', 'white', 'red'], 111)"
            ]
          },
          "execution_count": 17,
          "metadata": {},
          "output_type": "execute_result"
        }
      ],
      "source": [
        "(tuple_2 + (111,))"
      ]
    },
    {
      "cell_type": "code",
      "execution_count": 18,
      "metadata": {
        "colab": {
          "base_uri": "https://localhost:8080/"
        },
        "id": "N3fMWQjn0AkX",
        "outputId": "f7ecff64-376e-4665-906a-1a809ed6e2f8"
      },
      "outputs": [
        {
          "data": {
            "text/plain": [
              "(9, 10, 'Italy', ['green', 'white', 'red'], 111, 12345)"
            ]
          },
          "execution_count": 18,
          "metadata": {},
          "output_type": "execute_result"
        }
      ],
      "source": [
        "(tuple_2 + (111,12345)) # obiazatelno dolzna byt\n",
        "                        #apiataja inacze sczytajetsa za int"
      ]
    },
    {
      "cell_type": "code",
      "execution_count": 19,
      "metadata": {
        "colab": {
          "base_uri": "https://localhost:8080/"
        },
        "id": "tlKkTa1T0A1Q",
        "outputId": "f1580fa4-5e52-4cba-fb0c-f22610d45554"
      },
      "outputs": [
        {
          "data": {
            "text/plain": [
              "{0, 1, 2, 3, 4, 5, 6, 7, 8, 9, 10}"
            ]
          },
          "execution_count": 19,
          "metadata": {},
          "output_type": "execute_result"
        }
      ],
      "source": [
        "numbers = set(range(11))\n",
        "numbers"
      ]
    },
    {
      "cell_type": "code",
      "execution_count": 20,
      "metadata": {
        "colab": {
          "base_uri": "https://localhost:8080/"
        },
        "id": "UhoPqmwF3-UQ",
        "outputId": "185ecfb4-3a12-4f01-8bc3-4c58fe4a2aa9"
      },
      "outputs": [
        {
          "data": {
            "text/plain": [
              "{1, 3, 5, 7, 9, 11}"
            ]
          },
          "execution_count": 20,
          "metadata": {},
          "output_type": "execute_result"
        }
      ],
      "source": [
        "odd_numbers = set(range(1,12,2))\n",
        "odd_numbers"
      ]
    },
    {
      "cell_type": "code",
      "execution_count": 21,
      "metadata": {
        "colab": {
          "base_uri": "https://localhost:8080/"
        },
        "id": "yP6_VAdk3-X4",
        "outputId": "923a80de-d5be-4cd3-f0f1-7c88265685ba"
      },
      "outputs": [
        {
          "data": {
            "text/plain": [
              "False"
            ]
          },
          "execution_count": 21,
          "metadata": {},
          "output_type": "execute_result"
        }
      ],
      "source": [
        "4 in odd_numbers"
      ]
    },
    {
      "cell_type": "code",
      "execution_count": 22,
      "metadata": {
        "colab": {
          "base_uri": "https://localhost:8080/"
        },
        "id": "bFMlYrpi3-Z4",
        "outputId": "c47b1ef0-20dc-478d-d66e-12b83b9c2c8a"
      },
      "outputs": [
        {
          "data": {
            "text/plain": [
              "True"
            ]
          },
          "execution_count": 22,
          "metadata": {},
          "output_type": "execute_result"
        }
      ],
      "source": [
        "4 in numbers"
      ]
    },
    {
      "cell_type": "code",
      "execution_count": 23,
      "metadata": {
        "colab": {
          "base_uri": "https://localhost:8080/"
        },
        "id": "mqGoljUR4hwl",
        "outputId": "e72d9b6c-7c3d-4798-8250-88a7c08f1121"
      },
      "outputs": [
        {
          "data": {
            "text/plain": [
              "{0, 1, 2, 3, 4, 5, 6, 7, 8, 9, 10, 11}"
            ]
          },
          "execution_count": 23,
          "metadata": {},
          "output_type": "execute_result"
        }
      ],
      "source": [
        "numbers | odd_numbers"
      ]
    },
    {
      "cell_type": "code",
      "execution_count": 24,
      "metadata": {
        "colab": {
          "base_uri": "https://localhost:8080/"
        },
        "id": "7fFreFGF4h0E",
        "outputId": "c64149b4-23d9-4134-d630-3d9953cb4650"
      },
      "outputs": [
        {
          "data": {
            "text/plain": [
              "{1, 3, 5, 7, 9, 11}"
            ]
          },
          "execution_count": 24,
          "metadata": {},
          "output_type": "execute_result"
        }
      ],
      "source": [
        "numbers and odd_numbers"
      ]
    },
    {
      "cell_type": "code",
      "execution_count": 26,
      "metadata": {
        "id": "Uz1WlbMi4h2E"
      },
      "outputs": [],
      "source": [
        "price_list= {\n",
        "    \"milk\" : 5,\n",
        "    \"bread\" : 8,\n",
        "    \"butter\" : 3,\n",
        "    \"eggs\" : 12\n",
        "}"
      ]
    },
    {
      "cell_type": "code",
      "execution_count": 27,
      "metadata": {
        "colab": {
          "base_uri": "https://localhost:8080/"
        },
        "id": "0UKzMlOT4h3r",
        "outputId": "105646ac-464d-40bb-ddb4-7796e75ef8fe"
      },
      "outputs": [
        {
          "name": "stdout",
          "output_type": "stream",
          "text": [
            "milk 5\n",
            "bread 8\n",
            "butter 3\n",
            "eggs 12\n"
          ]
        }
      ],
      "source": [
        "for k, v in price_list.items():\n",
        "  print(k,v)"
      ]
    },
    {
      "cell_type": "code",
      "execution_count": 28,
      "metadata": {
        "colab": {
          "base_uri": "https://localhost:8080/"
        },
        "id": "DFf-orvW4h5e",
        "outputId": "6e5af530-5634-4e3f-c636-6b487030951f"
      },
      "outputs": [
        {
          "name": "stdout",
          "output_type": "stream",
          "text": [
            "milk 5\n",
            "bread 8\n",
            "butter 3\n",
            "eggs 12\n"
          ]
        }
      ],
      "source": [
        "for k in price_list.keys():\n",
        "  print(k, price_list[k])"
      ]
    },
    {
      "cell_type": "code",
      "execution_count": 29,
      "metadata": {
        "colab": {
          "base_uri": "https://localhost:8080/"
        },
        "id": "wpN5BA0r4h7O",
        "outputId": "e2cefdf7-3d4e-4c45-d60d-d07514bc5df0"
      },
      "outputs": [
        {
          "data": {
            "text/plain": [
              "5"
            ]
          },
          "execution_count": 29,
          "metadata": {},
          "output_type": "execute_result"
        }
      ],
      "source": [
        "price_list[\"milk\"]"
      ]
    },
    {
      "cell_type": "code",
      "execution_count": 30,
      "metadata": {
        "colab": {
          "base_uri": "https://localhost:8080/"
        },
        "id": "eMrkfOdL6PAx",
        "outputId": "feebe6c0-1671-4b63-8fe2-2bd482e4b474"
      },
      "outputs": [
        {
          "data": {
            "text/plain": [
              "[10, 11, 12, 13, 14, 15, 16, 17, 18, 19, 20]"
            ]
          },
          "execution_count": 30,
          "metadata": {},
          "output_type": "execute_result"
        }
      ],
      "source": [
        "list1 = list (range(10,21))\n",
        "list1"
      ]
    },
    {
      "cell_type": "code",
      "execution_count": 31,
      "metadata": {
        "id": "kQQ-rvEq6Pap"
      },
      "outputs": [],
      "source": [
        "def funSquere(x):\n",
        "  return x * x"
      ]
    },
    {
      "cell_type": "code",
      "execution_count": 32,
      "metadata": {
        "id": "7C5cVOwz6PeK"
      },
      "outputs": [],
      "source": [
        "list2 = []"
      ]
    },
    {
      "cell_type": "code",
      "execution_count": 33,
      "metadata": {
        "id": "Q_XZgO2I6Phy"
      },
      "outputs": [],
      "source": [
        "for x in list1:\n",
        "  list2.append(funSquere(x))\n"
      ]
    },
    {
      "cell_type": "code",
      "execution_count": 34,
      "metadata": {
        "colab": {
          "base_uri": "https://localhost:8080/"
        },
        "id": "1dP9X2OL6Ppi",
        "outputId": "37c390eb-e34d-42e2-8a09-a9518084cfb8"
      },
      "outputs": [
        {
          "data": {
            "text/plain": [
              "[100, 121, 144, 169, 196, 225, 256, 289, 324, 361, 400]"
            ]
          },
          "execution_count": 34,
          "metadata": {},
          "output_type": "execute_result"
        }
      ],
      "source": [
        "list2"
      ]
    },
    {
      "cell_type": "code",
      "execution_count": 35,
      "metadata": {
        "colab": {
          "base_uri": "https://localhost:8080/"
        },
        "id": "mi9dEUXy6PsZ",
        "outputId": "ed8bb353-3e89-47d7-fe4b-02c2b7a44838"
      },
      "outputs": [
        {
          "data": {
            "text/plain": [
              "[100, 121, 144, 169, 196, 225, 256, 289, 324, 361, 400]"
            ]
          },
          "execution_count": 35,
          "metadata": {},
          "output_type": "execute_result"
        }
      ],
      "source": [
        "[funSquere(x) for x in list1]"
      ]
    },
    {
      "cell_type": "code",
      "execution_count": 36,
      "metadata": {
        "colab": {
          "base_uri": "https://localhost:8080/"
        },
        "id": "t-IB00756Pvu",
        "outputId": "dd136349-8930-48cf-db0f-b552a500cce9"
      },
      "outputs": [
        {
          "data": {
            "text/plain": [
              "[100, 121, 144, 169, 196, 225, 256, 289, 324, 361, 400]"
            ]
          },
          "execution_count": 36,
          "metadata": {},
          "output_type": "execute_result"
        }
      ],
      "source": [
        "#funkcja anonimowa\n",
        "[(lambda x: x * x)(x) for x in list1]"
      ]
    },
    {
      "cell_type": "code",
      "execution_count": 37,
      "metadata": {
        "colab": {
          "base_uri": "https://localhost:8080/"
        },
        "id": "93x2g6J86Py0",
        "outputId": "977570d3-753f-4c1a-b1c5-a1dea7326f39"
      },
      "outputs": [
        {
          "data": {
            "text/plain": [
              "[100, 121, 144, 169, 196, 225, 256, 289, 324, 361, 400]"
            ]
          },
          "execution_count": 37,
          "metadata": {},
          "output_type": "execute_result"
        }
      ],
      "source": [
        "[x * x for x in list1]"
      ]
    },
    {
      "cell_type": "code",
      "execution_count": 38,
      "metadata": {
        "id": "itef_2En6P2R"
      },
      "outputs": [],
      "source": [
        "\n",
        "s_1 = {\n",
        "    \"hour\":\"10.15\",\n",
        "    \"durarion_min\":90,\n",
        "    \"type\":\"laboratory\",\n",
        "    \"topic\":\"Alorytmy i struktury danych\",\n",
        "    \"teacher\":\"dr Sylwia Stachowiak\",\n",
        "    \"classroom\":\"N021k\",\n",
        "    \"prev\" : None,\n",
        "    \"next\": None\n",
        "}\n",
        "s_2 = {\n",
        "    \"hour\":\"12.00\",\n",
        "    \"durarion_min\":90,\n",
        "    \"type\":\"lekcja\",\n",
        "    \"topic\":\"Język angielski\",\n",
        "    \"teacher\":\"Sylwia Ignatowska\",\n",
        "    \"classroom\":\"S105\",\n",
        "    \"prev\" : None,\n",
        "    \"next\": None\n",
        "\n",
        "}\n",
        "s_3 = {\n",
        "    \"hour\":\"13.45\",\n",
        "    \"durarion_min\":90,\n",
        "    \"type\":\"laboratory\",\n",
        "    \"topic\":\"Analiza matematyczna 1\",\n",
        "    \"teacher\":\"dr Oleg T\",\n",
        "    \"classroom\":\"N318\",\n",
        "    \"prev\" : None,\n",
        "    \"next\": None\n",
        "}"
      ]
    },
    {
      "cell_type": "code",
      "execution_count": 39,
      "metadata": {
        "id": "udua-fx6-FCZ"
      },
      "outputs": [],
      "source": [
        "#listy dwukierunkowe\n",
        "s_1[\"next\"] = s_2\n",
        "s_2[\"prev\"] = s_1\n",
        "s_2[\"next\"] = s_3\n",
        "s_3[\"prev\"] = s_2"
      ]
    },
    {
      "cell_type": "code",
      "execution_count": 40,
      "metadata": {
        "id": "QaXeXReH-EtB"
      },
      "outputs": [],
      "source": [
        "studies = s_1"
      ]
    },
    {
      "cell_type": "code",
      "execution_count": 41,
      "metadata": {
        "colab": {
          "base_uri": "https://localhost:8080/"
        },
        "id": "bxuuNEl7-Eqq",
        "outputId": "6ea3f77e-9af5-4fa6-8878-7d3a86856539"
      },
      "outputs": [
        {
          "name": "stdout",
          "output_type": "stream",
          "text": [
            "Alorytmy i struktury danych\n",
            "Język angielski\n",
            "Analiza matematyczna 1\n"
          ]
        }
      ],
      "source": [
        "sub = studies\n",
        "while sub:\n",
        "  print(sub[\"topic\"])\n",
        "  sub = sub[\"next\"]"
      ]
    },
    {
      "cell_type": "code",
      "execution_count": 42,
      "metadata": {
        "id": "NGdChxKc_jD0"
      },
      "outputs": [],
      "source": [
        "def addSubBegin(my_s, new_sub):\n",
        "  new_sub[\"prev\"] = None\n",
        "  new_sub[\"next\"] = my_s\n",
        "\n",
        "  if my_s:\n",
        "    my_s[\"prev\"] = new_sub\n",
        "\n",
        "  my_s = new_sub\n",
        "  return my_s"
      ]
    },
    {
      "cell_type": "code",
      "execution_count": 43,
      "metadata": {
        "id": "poZx0hmQA72O"
      },
      "outputs": [],
      "source": [
        "s_0 = {\n",
        "    \"hour\":\"08.30\",\n",
        "    \"durarion_min\":90,\n",
        "    \"type\":\"laboratory\",\n",
        "    \"topic\":\"Narzędzia programisty\",\n",
        "    \"teacher\":\"dr Sylwia Stachowiak\",\n",
        "    \"classroom\":\"N021k\",\n",
        "    \"prev\" : None,\n",
        "    \"next\": None\n",
        "}"
      ]
    },
    {
      "cell_type": "code",
      "execution_count": 44,
      "metadata": {
        "id": "j7NE7f1K_jLm"
      },
      "outputs": [],
      "source": [
        "studies = addSubBegin(studies, s_0)"
      ]
    },
    {
      "cell_type": "code",
      "execution_count": 45,
      "metadata": {
        "colab": {
          "base_uri": "https://localhost:8080/"
        },
        "id": "LYpV8UXx_jND",
        "outputId": "96ec6208-379b-4222-c58d-1a716cce2da9"
      },
      "outputs": [
        {
          "name": "stdout",
          "output_type": "stream",
          "text": [
            "Narzędzia programisty\n",
            "Alorytmy i struktury danych\n",
            "Język angielski\n",
            "Analiza matematyczna 1\n"
          ]
        }
      ],
      "source": [
        "sub = studies\n",
        "while sub:\n",
        "  print(sub[\"topic\"])\n",
        "  sub = sub[\"next\"]"
      ]
    },
    {
      "cell_type": "code",
      "execution_count": 46,
      "metadata": {
        "id": "IScrX44N_jOe"
      },
      "outputs": [],
      "source": [
        "def addSubEnd(my_s, new_sub):\n",
        "  if my_s == None:\n",
        "    my_s = new_sub\n",
        "    new_sub[\"prev\"] = None\n",
        "    new_sub[\"next\"] = None\n",
        "    return my_s\n",
        "  else:\n",
        "    sub = my_s\n",
        "    while sub[\"next\"]:\n",
        "      sub = sub[\"next\"]\n",
        "    sub[\"next\"] = new_sub\n",
        "    new_sub[\"prev\"] = sub\n",
        "    return my_s"
      ]
    },
    {
      "cell_type": "code",
      "execution_count": 47,
      "metadata": {
        "id": "ROGrVqVO_jRH"
      },
      "outputs": [],
      "source": [
        "s_4 = {\n",
        "    \"hour\":\"15.15\",\n",
        "    \"durarion_min\":90,\n",
        "    \"type\":\"laboratory\",\n",
        "    \"topic\":\"Wstęp do programowania\",\n",
        "    \"teacher\":\"dr Sylwia Stachowiak\",\n",
        "    \"classroom\":\"N021k\",\n",
        "    \"prev\" : None,\n",
        "    \"next\": None\n",
        "}"
      ]
    },
    {
      "cell_type": "code",
      "execution_count": 48,
      "metadata": {
        "id": "MBEWQ6-FDrST"
      },
      "outputs": [],
      "source": [
        "studies = addSubEnd(studies, s_4)"
      ]
    },
    {
      "cell_type": "code",
      "execution_count": 49,
      "metadata": {
        "colab": {
          "base_uri": "https://localhost:8080/"
        },
        "id": "mYD4ETW_DrUQ",
        "outputId": "a6f68ea7-27f4-49af-efe1-3ddf43d5b325"
      },
      "outputs": [
        {
          "name": "stdout",
          "output_type": "stream",
          "text": [
            "Narzędzia programisty\n",
            "Alorytmy i struktury danych\n",
            "Język angielski\n",
            "Analiza matematyczna 1\n",
            "Wstęp do programowania\n"
          ]
        }
      ],
      "source": [
        "sub = studies\n",
        "while sub:\n",
        "  print(sub[\"topic\"])\n",
        "  sub = sub[\"next\"]"
      ]
    },
    {
      "cell_type": "code",
      "execution_count": 50,
      "metadata": {
        "id": "28_3p6gslOxM"
      },
      "outputs": [],
      "source": [
        "def del_subject_end(my_s):\n",
        "  sub = my_s\n",
        "  while sub[\"next\"] and sub[\"next\"].get(\"next\"):\n",
        "      sub = sub[\"next\"]\n",
        "  sub.pop(\"next\")\n",
        "  return sub"
      ]
    },
    {
      "cell_type": "code",
      "execution_count": 51,
      "metadata": {
        "colab": {
          "base_uri": "https://localhost:8080/"
        },
        "id": "0wTOcGwqsiPN",
        "outputId": "9d2ed435-1a18-482d-83f6-2c7d5c7dcc32"
      },
      "outputs": [
        {
          "name": "stdout",
          "output_type": "stream",
          "text": [
            "Narzędzia programisty\n",
            "Alorytmy i struktury danych\n",
            "Język angielski\n",
            "Analiza matematyczna 1\n",
            "Wstęp do programowania\n"
          ]
        }
      ],
      "source": [
        "sub = studies\n",
        "while sub:\n",
        "  print(sub[\"topic\"])\n",
        "  sub = sub[\"next\"]"
      ]
    },
    {
      "cell_type": "code",
      "execution_count": 52,
      "metadata": {
        "id": "hY0qXOprsmxR"
      },
      "outputs": [],
      "source": [
        "def del_subject_begin(my_s):\n",
        "  if my_s[\"prev\"] == None:\n",
        "    my_s.pop(\"prev\")\n",
        "  return my_s\n"
      ]
    },
    {
      "cell_type": "code",
      "execution_count": 53,
      "metadata": {
        "colab": {
          "base_uri": "https://localhost:8080/"
        },
        "id": "76ML3rC-tEwm",
        "outputId": "83b1dc91-f31f-4436-ce4e-b5f08983af25"
      },
      "outputs": [
        {
          "name": "stdout",
          "output_type": "stream",
          "text": [
            "Narzędzia programisty\n",
            "Alorytmy i struktury danych\n",
            "Język angielski\n",
            "Analiza matematyczna 1\n",
            "Wstęp do programowania\n"
          ]
        }
      ],
      "source": [
        "sub = studies\n",
        "while sub:\n",
        "  print(sub[\"topic\"])\n",
        "  sub = sub[\"next\"]"
      ]
    }
  ],
  "metadata": {
    "colab": {
      "provenance": []
    },
    "kernelspec": {
      "display_name": "Python 3",
      "name": "python3"
    },
    "language_info": {
      "codemirror_mode": {
        "name": "ipython",
        "version": 3
      },
      "file_extension": ".py",
      "mimetype": "text/x-python",
      "name": "python",
      "nbconvert_exporter": "python",
      "pygments_lexer": "ipython3",
      "version": "3.9.6"
    }
  },
  "nbformat": 4,
  "nbformat_minor": 0
}
