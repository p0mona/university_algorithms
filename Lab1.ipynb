{
  "cells": [
    {
      "cell_type": "code",
      "execution_count": 1,
      "metadata": {
        "id": "CJI8q5p3ycp_"
      },
      "outputs": [],
      "source": [
        "Igor = {\n",
        "    \"name\":\"Igor\",\n",
        "    \"surname\":\"Nowak\",\n",
        "    \"email\":\"inowak@st.swps.edu.pl\",\n",
        "    \"album_nr\":\"12345\"\n",
        "}\n",
        "Olga = {\n",
        "    \"name\":\"Olga\",\n",
        "    \"surname\":\"Zielińska\",\n",
        "    \"email\":\"ozielinska@st.swps.edu.pl\",\n",
        "    \"album_nr\":\"12346\"\n",
        "}\n",
        "Klara = {\n",
        "    \"name\":\"Klara\",\n",
        "    \"surname\":\"Kwalczyk\",\n",
        "    \"email\":\"kkowalczyk@st.swps.edu.pl\",\n",
        "    \"album_nr\":\"12347\"\n",
        "}\n",
        "Adam = {\n",
        "    \"name\":\"Adam\",\n",
        "    \"surname\":\"Kowalski\",\n",
        "    \"email\":\"akowalski@st.swps.edu.pl\",\n",
        "    \"album_nr\":\"12348\"\n",
        "}"
      ]
    },
    {
      "cell_type": "code",
      "execution_count": 2,
      "metadata": {
        "colab": {
          "base_uri": "https://localhost:8080/"
        },
        "id": "wU_W01u7zmQZ",
        "outputId": "3ebcf595-06d1-4435-b2ee-2d73098677ed"
      },
      "outputs": [
        {
          "data": {
            "text/plain": [
              "{'name': 'Igor',\n",
              " 'surname': 'Nowak',\n",
              " 'email': 'inowak@st.swps.edu.pl',\n",
              " 'album_nr': '12345'}"
            ]
          },
          "execution_count": 2,
          "metadata": {},
          "output_type": "execute_result"
        }
      ],
      "source": [
        "Igor"
      ]
    },
    {
      "cell_type": "code",
      "execution_count": 3,
      "metadata": {
        "id": "qho87PL0znLx"
      },
      "outputs": [],
      "source": [
        "student_list = [Igor, Olga, Klara, Adam]"
      ]
    },
    {
      "cell_type": "markdown",
      "metadata": {
        "id": "xWPbL-YH03Zk"
      },
      "source": [
        "Wywołam listę słowników"
      ]
    },
    {
      "cell_type": "code",
      "execution_count": 4,
      "metadata": {
        "colab": {
          "base_uri": "https://localhost:8080/"
        },
        "id": "iEaiQgHnznNp",
        "outputId": "ed376350-8aa3-41ca-b62e-5f6a588121c0"
      },
      "outputs": [
        {
          "data": {
            "text/plain": [
              "[{'name': 'Igor',\n",
              "  'surname': 'Nowak',\n",
              "  'email': 'inowak@st.swps.edu.pl',\n",
              "  'album_nr': '12345'},\n",
              " {'name': 'Olga',\n",
              "  'surname': 'Zielińska',\n",
              "  'email': 'ozielinska@st.swps.edu.pl',\n",
              "  'album_nr': '12346'},\n",
              " {'name': 'Klara',\n",
              "  'surname': 'Kwalczyk',\n",
              "  'email': 'kkowalczyk@st.swps.edu.pl',\n",
              "  'album_nr': '12347'},\n",
              " {'name': 'Adam',\n",
              "  'surname': 'Kowalski',\n",
              "  'email': 'akowalski@st.swps.edu.pl',\n",
              "  'album_nr': '12348'}]"
            ]
          },
          "execution_count": 4,
          "metadata": {},
          "output_type": "execute_result"
        }
      ],
      "source": [
        "student_list"
      ]
    },
    {
      "cell_type": "code",
      "execution_count": 5,
      "metadata": {
        "id": "jy5k1NzS0s2_"
      },
      "outputs": [],
      "source": [
        "all_emails = \"\"\n"
      ]
    },
    {
      "cell_type": "code",
      "execution_count": 7,
      "metadata": {
        "colab": {
          "base_uri": "https://localhost:8080/",
          "height": 35
        },
        "id": "tBHOjre_1x69",
        "outputId": "8e6eb613-2e2a-411c-e515-27420f3d468d"
      },
      "outputs": [
        {
          "data": {
            "text/plain": [
              "''"
            ]
          },
          "execution_count": 7,
          "metadata": {},
          "output_type": "execute_result"
        }
      ],
      "source": [
        "all_emails"
      ]
    },
    {
      "cell_type": "code",
      "execution_count": 8,
      "metadata": {
        "id": "xmm43YNB1_K3"
      },
      "outputs": [],
      "source": [
        "student_dict = {}"
      ]
    },
    {
      "cell_type": "code",
      "execution_count": 9,
      "metadata": {
        "id": "saNG1Hr_2IO-"
      },
      "outputs": [],
      "source": [
        "for student in student_list:\n",
        "  student_dict[student[\"name\"]] = student"
      ]
    },
    {
      "cell_type": "code",
      "execution_count": 10,
      "metadata": {
        "colab": {
          "base_uri": "https://localhost:8080/"
        },
        "id": "9hIqE9sq2IQ2",
        "outputId": "5679816b-d8d9-464c-c3e4-2cc16c4441d0"
      },
      "outputs": [
        {
          "data": {
            "text/plain": [
              "{'Igor': {'name': 'Igor',\n",
              "  'surname': 'Nowak',\n",
              "  'email': 'inowak@st.swps.edu.pl',\n",
              "  'album_nr': '12345'},\n",
              " 'Olga': {'name': 'Olga',\n",
              "  'surname': 'Zielińska',\n",
              "  'email': 'ozielinska@st.swps.edu.pl',\n",
              "  'album_nr': '12346'},\n",
              " 'Klara': {'name': 'Klara',\n",
              "  'surname': 'Kwalczyk',\n",
              "  'email': 'kkowalczyk@st.swps.edu.pl',\n",
              "  'album_nr': '12347'},\n",
              " 'Adam': {'name': 'Adam',\n",
              "  'surname': 'Kowalski',\n",
              "  'email': 'akowalski@st.swps.edu.pl',\n",
              "  'album_nr': '12348'}}"
            ]
          },
          "execution_count": 10,
          "metadata": {},
          "output_type": "execute_result"
        }
      ],
      "source": [
        "student_dict"
      ]
    },
    {
      "cell_type": "code",
      "execution_count": 11,
      "metadata": {
        "colab": {
          "base_uri": "https://localhost:8080/"
        },
        "id": "3-HO4wi72dI2",
        "outputId": "553a2be8-0ae1-4aa8-b284-c55c15fbeccd"
      },
      "outputs": [
        {
          "data": {
            "text/plain": [
              "{'name': 'Adam',\n",
              " 'surname': 'Kowalski',\n",
              " 'email': 'akowalski@st.swps.edu.pl',\n",
              " 'album_nr': '12348'}"
            ]
          },
          "execution_count": 11,
          "metadata": {},
          "output_type": "execute_result"
        }
      ],
      "source": [
        "student_dict[\"Adam\"]"
      ]
    },
    {
      "cell_type": "code",
      "execution_count": 12,
      "metadata": {
        "colab": {
          "base_uri": "https://localhost:8080/",
          "height": 35
        },
        "id": "GlrmgcaY2dKc",
        "outputId": "e6c18872-8700-407e-a06d-4fb0772cb78f"
      },
      "outputs": [
        {
          "data": {
            "text/plain": [
              "'akowalski@st.swps.edu.pl'"
            ]
          },
          "execution_count": 12,
          "metadata": {},
          "output_type": "execute_result"
        }
      ],
      "source": [
        "student_dict[\"Adam\"][\"email\"]"
      ]
    },
    {
      "cell_type": "code",
      "execution_count": 13,
      "metadata": {
        "colab": {
          "base_uri": "https://localhost:8080/",
          "height": 35
        },
        "id": "62elqgV-3QlO",
        "outputId": "279b96f3-319b-496f-d140-88b2588bdc0f"
      },
      "outputs": [
        {
          "data": {
            "text/plain": [
              "'12347'"
            ]
          },
          "execution_count": 13,
          "metadata": {},
          "output_type": "execute_result"
        }
      ],
      "source": [
        "student_dict[\"Klara\"][\"album_nr\"]"
      ]
    },
    {
      "cell_type": "code",
      "execution_count": 14,
      "metadata": {
        "colab": {
          "base_uri": "https://localhost:8080/"
        },
        "id": "RtpCcSz_3QnQ",
        "outputId": "4b022f91-ebfd-43e3-c625-504775809cc3"
      },
      "outputs": [
        {
          "name": "stdout",
          "output_type": "stream",
          "text": [
            "Igor Nowak 12345\n",
            "Olga Zielińska 12346\n",
            "Klara Kwalczyk 12347\n",
            "Adam Kowalski 12348\n"
          ]
        }
      ],
      "source": [
        "for student in student_list:\n",
        "  print(\"{} {} {}\".format((student[\"name\"]),(student[\"surname\"]),(student[\"album_nr\"])))"
      ]
    },
    {
      "cell_type": "code",
      "execution_count": 15,
      "metadata": {
        "colab": {
          "base_uri": "https://localhost:8080/"
        },
        "id": "AF9liQrV3Qo9",
        "outputId": "c9702f23-9427-43b3-8c05-196695a138d3"
      },
      "outputs": [
        {
          "name": "stdout",
          "output_type": "stream",
          "text": [
            "Igor Nowak 12345\n",
            "Olga Zielińska 12346\n",
            "Klara Kwalczyk 12347\n",
            "Adam Kowalski 12348\n"
          ]
        }
      ],
      "source": [
        "for k, v in student_dict.items():\n",
        "  print(\"{} {} {}\".format(v[\"name\"], v[\"surname\"], v[\"album_nr\"]))"
      ]
    }
  ],
  "metadata": {
    "colab": {
      "provenance": []
    },
    "kernelspec": {
      "display_name": "Python 3",
      "name": "python3"
    },
    "language_info": {
      "codemirror_mode": {
        "name": "ipython",
        "version": 3
      },
      "file_extension": ".py",
      "mimetype": "text/x-python",
      "name": "python",
      "nbconvert_exporter": "python",
      "pygments_lexer": "ipython3",
      "version": "3.9.6"
    }
  },
  "nbformat": 4,
  "nbformat_minor": 0
}
