{
  "cells": [
    {
      "cell_type": "code",
      "execution_count": 2,
      "metadata": {
        "id": "HDDRFPbO0Qlo"
      },
      "outputs": [],
      "source": [
        "healthy = {\"vegetables\", \"fruit\",\" fish\", \"eggs\"}\n",
        "drinks = {\"caffee\", \"tea\", \"milk\", \"water\"}"
      ]
    },
    {
      "cell_type": "code",
      "execution_count": 3,
      "metadata": {
        "colab": {
          "base_uri": "https://localhost:8080/"
        },
        "id": "IBhN4cN0FkOb",
        "outputId": "37ec0f84-408e-4147-dafa-04d14d6e78af"
      },
      "outputs": [
        {
          "data": {
            "text/plain": [
              "False"
            ]
          },
          "execution_count": 3,
          "metadata": {},
          "output_type": "execute_result"
        }
      ],
      "source": [
        "\"ciastka\" in healthy"
      ]
    },
    {
      "cell_type": "code",
      "execution_count": 4,
      "metadata": {
        "colab": {
          "base_uri": "https://localhost:8080/"
        },
        "id": "IKV-kgmPFkQS",
        "outputId": "8cdbe673-ac7b-4a60-8f49-cb286eb65064"
      },
      "outputs": [
        {
          "data": {
            "text/plain": [
              "True"
            ]
          },
          "execution_count": 4,
          "metadata": {},
          "output_type": "execute_result"
        }
      ],
      "source": [
        "\"water\" in drinks"
      ]
    },
    {
      "cell_type": "code",
      "execution_count": 5,
      "metadata": {
        "colab": {
          "base_uri": "https://localhost:8080/"
        },
        "id": "nmnvQUz2FkVa",
        "outputId": "a734b169-63d3-41d6-c310-89f9de92ee33"
      },
      "outputs": [
        {
          "data": {
            "text/plain": [
              "{' fish', 'caffee', 'eggs', 'fruit', 'milk', 'tea', 'vegetables', 'water'}"
            ]
          },
          "execution_count": 5,
          "metadata": {},
          "output_type": "execute_result"
        }
      ],
      "source": [
        "healthy | drinks"
      ]
    },
    {
      "cell_type": "code",
      "execution_count": 6,
      "metadata": {
        "colab": {
          "base_uri": "https://localhost:8080/"
        },
        "id": "diltJp9uF_TV",
        "outputId": "e57f2bac-d4a6-4e54-f55e-d0dd5ad58e70"
      },
      "outputs": [
        {
          "data": {
            "text/plain": [
              "{'caffee', 'milk', 'tea', 'water'}"
            ]
          },
          "execution_count": 6,
          "metadata": {},
          "output_type": "execute_result"
        }
      ],
      "source": [
        "healthy and drinks\n"
      ]
    },
    {
      "cell_type": "code",
      "execution_count": 7,
      "metadata": {
        "id": "CIRXYqjuF_Vj"
      },
      "outputs": [],
      "source": [
        "dict = {\n",
        "    \"milk\" : 5,\n",
        "    \"bread\" : 5,\n",
        "    \"eggs\" : 12,\n",
        "    \"cheese\" : 11,\n",
        "    \"water\" : 3\n",
        "}"
      ]
    },
    {
      "cell_type": "code",
      "execution_count": 8,
      "metadata": {
        "colab": {
          "base_uri": "https://localhost:8080/"
        },
        "id": "-lYji-IsGveh",
        "outputId": "a7e9554b-5abc-4a74-86a0-a65d33fe78f8"
      },
      "outputs": [
        {
          "name": "stdout",
          "output_type": "stream",
          "text": [
            "milk 5\n",
            "bread 5\n",
            "eggs 12\n",
            "cheese 11\n",
            "water 3\n"
          ]
        }
      ],
      "source": [
        "for k in dict.keys():\n",
        "  print(k, dict[k])"
      ]
    },
    {
      "cell_type": "code",
      "execution_count": 9,
      "metadata": {
        "id": "B65xgz-IGvgg"
      },
      "outputs": [],
      "source": [
        "names = ['Igor Nowak', 'Olga Zielińska', 'Klara Kowalczyk', 'Adam Kowalski']"
      ]
    },
    {
      "cell_type": "code",
      "execution_count": 10,
      "metadata": {
        "colab": {
          "base_uri": "https://localhost:8080/"
        },
        "id": "CuxHwIZoHFyv",
        "outputId": "84633c64-d9eb-4ce7-98ec-aab65a56a827"
      },
      "outputs": [
        {
          "name": "stdout",
          "output_type": "stream",
          "text": [
            "['stan', 'b']\n",
            "stan\n",
            "b\n"
          ]
        }
      ],
      "source": [
        "napis = 'stan b'.split(' ')\n",
        "\n",
        "print(napis)\n",
        "\n",
        "print(napis[0])\n",
        "\n",
        "print(napis[1])"
      ]
    },
    {
      "cell_type": "code",
      "execution_count": 11,
      "metadata": {
        "id": "oJITi9-GGviN"
      },
      "outputs": [],
      "source": [
        "def get_sub_name(name, part):\n",
        "  split_name = name.split()\n",
        "  if part == 0:\n",
        "      return split_name[0]\n",
        "  elif part == 1:\n",
        "      return split_name[1]\n",
        "  else:\n",
        "      return None\n",
        "first_names = [get_sub_name(name, 0) for name in names]\n",
        "last_names = [get_sub_name(name, 1) for name in names]"
      ]
    },
    {
      "cell_type": "code",
      "execution_count": 12,
      "metadata": {
        "colab": {
          "base_uri": "https://localhost:8080/"
        },
        "id": "PaLa3kLQGvj4",
        "outputId": "3799a39e-60cf-47d9-d19a-eb8e41206fae"
      },
      "outputs": [
        {
          "name": "stdout",
          "output_type": "stream",
          "text": [
            "Names: ['Igor', 'Olga', 'Klara', 'Adam']\n",
            "Surnames: ['Nowak', 'Zielińska', 'Kowalczyk', 'Kowalski']\n"
          ]
        }
      ],
      "source": [
        "print(\"Names:\", first_names)\n",
        "print(\"Surnames:\", last_names)"
      ]
    }
  ],
  "metadata": {
    "colab": {
      "provenance": []
    },
    "kernelspec": {
      "display_name": "Python 3",
      "name": "python3"
    },
    "language_info": {
      "codemirror_mode": {
        "name": "ipython",
        "version": 3
      },
      "file_extension": ".py",
      "mimetype": "text/x-python",
      "name": "python",
      "nbconvert_exporter": "python",
      "pygments_lexer": "ipython3",
      "version": "3.9.6"
    }
  },
  "nbformat": 4,
  "nbformat_minor": 0
}
