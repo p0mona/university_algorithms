{
  "cells": [
    {
      "cell_type": "code",
      "execution_count": 1,
      "metadata": {
        "id": "CyxjoLgVLcID"
      },
      "outputs": [],
      "source": [
        "G1 = {\n",
        "    1:[2,3,4],\n",
        "    2:[5],\n",
        "    3:[5],\n",
        "    4:[5,6],\n",
        "    5:[6],\n",
        "    6:[]\n",
        "}"
      ]
    },
    {
      "cell_type": "code",
      "execution_count": 2,
      "metadata": {
        "id": "9OTs2qUXLhGt"
      },
      "outputs": [],
      "source": [
        "G2 = {\n",
        "    1:[2,3,4],\n",
        "    2:[1,5],\n",
        "    3:[1,5],\n",
        "    4:[1,5,6],\n",
        "    5:[2,4,6],\n",
        "    6:[4,5]\n",
        "}"
      ]
    },
    {
      "cell_type": "code",
      "execution_count": 3,
      "metadata": {
        "id": "35lvC4wBLhIU"
      },
      "outputs": [],
      "source": [
        "G3 = {\n",
        "    1:[2,3,4],\n",
        "    2:[5],\n",
        "    3:[5],\n",
        "    4:[5],\n",
        "    5:[6],\n",
        "    6:[4]\n",
        "}"
      ]
    },
    {
      "cell_type": "code",
      "execution_count": 4,
      "metadata": {
        "colab": {
          "base_uri": "https://localhost:8080/"
        },
        "id": "FazRstQ1LhJ8",
        "outputId": "77e138b8-11ee-44a1-bdce-4d2705b4a8e9"
      },
      "outputs": [
        {
          "name": "stdout",
          "output_type": "stream",
          "text": [
            "G1------------------------------\n",
            "Checking 1\n",
            "Checking 2\n",
            "Checking 3\n",
            "Found! 4\n",
            "True\n",
            "G1------------------------------\n",
            "Checking 1\n",
            "Checking 2\n",
            "Checking 3\n",
            "Checking 4\n",
            "Checking 5\n",
            "Found! 6\n",
            "True\n",
            "G2------------------------------\n",
            "Checking 1\n",
            "Checking 2\n",
            "Checking 3\n",
            "Checking 4\n",
            "Checking 5\n",
            "Found! 6\n",
            "True\n",
            "G3------------------------------\n",
            "Checking 1\n",
            "Checking 2\n",
            "Checking 3\n",
            "Found! 4\n",
            "True\n"
          ]
        }
      ],
      "source": [
        "def is_path_betweenBFS(graph, start_node, end_node):\n",
        "\n",
        "  list_to_check = [start_node]\n",
        "  list_visited = []\n",
        "\n",
        "  while list_to_check:\n",
        "    current_node = list_to_check.pop(0)\n",
        "    if current_node == end_node:\n",
        "      print('Found!', current_node)\n",
        "      return True\n",
        "    else:\n",
        "      if current_node not in list_visited:\n",
        "        print('Checking', current_node)\n",
        "        list_visited.append(current_node)\n",
        "        list_to_check.extend(graph[current_node]) # kolejka\n",
        "\n",
        "  return False\n",
        "\n",
        "print('G1' + 30*'-')\n",
        "print(is_path_betweenBFS(G1, 1, 4))\n",
        "print('G1' + 30*'-')\n",
        "print(is_path_betweenBFS(G1, 1, 6))\n",
        "print('G2' + 30*'-')\n",
        "print(is_path_betweenBFS(G2, 1, 6))\n",
        "print('G3' + 30*'-')\n",
        "print(is_path_betweenBFS(G3, 1, 4))"
      ]
    },
    {
      "cell_type": "code",
      "execution_count": 5,
      "metadata": {
        "colab": {
          "base_uri": "https://localhost:8080/"
        },
        "id": "GuGIvIHtLhLc",
        "outputId": "95b4323e-1ff6-46cd-fa34-b00a0d4a7a8a"
      },
      "outputs": [
        {
          "name": "stdout",
          "output_type": "stream",
          "text": [
            "G1------------------------------\n",
            "Checking 1\n",
            "Checking 2\n",
            "Checking 5\n",
            "Found! 6\n",
            "True\n",
            "G2------------------------------\n",
            "Checking 1\n",
            "Checking 2\n",
            "Checking 5\n",
            "Checking 4\n",
            "Found! 6\n",
            "True\n",
            "G3------------------------------\n",
            "Checking 1\n",
            "Checking 2\n",
            "Checking 5\n",
            "Found! 6\n",
            "True\n"
          ]
        }
      ],
      "source": [
        "def is_path_betweenDFS(graph, start_node, end_node):\n",
        "\n",
        "  list_to_check = [start_node]\n",
        "  list_visited = []\n",
        "\n",
        "  while list_to_check:\n",
        "    current_node = list_to_check.pop(0)\n",
        "    if current_node == end_node:\n",
        "      print('Found!', current_node)\n",
        "      return True\n",
        "    else:\n",
        "      if current_node not in list_visited:\n",
        "        print('Checking', current_node)\n",
        "        list_visited.append(current_node)\n",
        "        list_to_check = graph[current_node] + list_to_check #stos\n",
        "\n",
        "  return False\n",
        "\n",
        "print('G1' + 30*'-')\n",
        "print(is_path_betweenDFS(G1, 1, 6))\n",
        "print('G2' + 30*'-')\n",
        "print(is_path_betweenDFS(G2, 1, 6))\n",
        "print('G3' + 30*'-')\n",
        "print(is_path_betweenDFS(G3, 1, 6))"
      ]
    }
  ],
  "metadata": {
    "colab": {
      "provenance": []
    },
    "kernelspec": {
      "display_name": "Python 3",
      "name": "python3"
    },
    "language_info": {
      "codemirror_mode": {
        "name": "ipython",
        "version": 3
      },
      "file_extension": ".py",
      "mimetype": "text/x-python",
      "name": "python",
      "nbconvert_exporter": "python",
      "pygments_lexer": "ipython3",
      "version": "3.9.6"
    }
  },
  "nbformat": 4,
  "nbformat_minor": 0
}
