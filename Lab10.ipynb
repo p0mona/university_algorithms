{
  "cells": [
    {
      "cell_type": "code",
      "execution_count": 1,
      "metadata": {
        "colab": {
          "base_uri": "https://localhost:8080/"
        },
        "id": "fegJn3xiCC3P",
        "outputId": "29088198-ca88-44df-9daf-cc7eb4e3fe4f"
      },
      "outputs": [
        {
          "name": "stdout",
          "output_type": "stream",
          "text": [
            "['Pola', 'Elżbieta', 'Henryk']\n"
          ]
        }
      ],
      "source": [
        "#Graf nieskierowany, prosty\n",
        "V = [\"Darek1\", \"Darek2\", \"Pola\", \"Karol\", \"Elżbieta\", \"Henryk\"]\n",
        "E = [\n",
        "    [\"Pola\", \"Darek1\"], [\"Pola\", \"Darek2\"], [\"Pola\", \"Karol\"],\n",
        "    [\"Pola\", \"Elżbieta\"], [\"Pola\", \"Henryk\"],[\"Darek1\", \"Darek2\"],\n",
        "    [\"Karol\", \"Elżbieta\"], [\"Elżbieta\", \"Henryk\"], [\"Karol\", \"Henryk\"]\n",
        "]\n",
        "#Kto zna Karola?\n",
        "def who_knows_person(person, E):\n",
        "  friends = []\n",
        "  for person1, person2 in E:\n",
        "    if person1 == person:\n",
        "      friends.append(person2)\n",
        "    elif person2 == person:\n",
        "      friends.append(person1)\n",
        "  return friends\n",
        "\n",
        "print(who_knows_person(\"Karol\", E))"
      ]
    },
    {
      "cell_type": "code",
      "execution_count": 2,
      "metadata": {
        "colab": {
          "base_uri": "https://localhost:8080/"
        },
        "id": "fpCVXH7YCFvF",
        "outputId": "9df7de38-dced-4f71-d16a-a1380bab6a2c"
      },
      "outputs": [
        {
          "name": "stdout",
          "output_type": "stream",
          "text": [
            "['Darek1', 'Darek2', 'Karol', 'Elżbieta', 'Henryk']\n"
          ]
        }
      ],
      "source": [
        "print(who_knows_person(\"Pola\", E))"
      ]
    },
    {
      "cell_type": "code",
      "execution_count": 3,
      "metadata": {
        "colab": {
          "base_uri": "https://localhost:8080/"
        },
        "id": "YWya41zpCFys",
        "outputId": "f91e6189-4a73-4ad3-d7c2-9b7345bd0506"
      },
      "outputs": [
        {
          "name": "stdout",
          "output_type": "stream",
          "text": [
            "4\n",
            "5\n"
          ]
        }
      ],
      "source": [
        "#Graf skierowany, prosty\n",
        "V = [1, 2, 3, 4, 5]\n",
        "E = [(1, 2), (1, 3), (2, 4), (3, 4), (3, 5)]\n",
        "\n",
        "start = 3\n",
        "\n",
        "for x, y in E:\n",
        "  if x == start:\n",
        "    print(y)\n"
      ]
    },
    {
      "cell_type": "code",
      "execution_count": 4,
      "metadata": {
        "colab": {
          "base_uri": "https://localhost:8080/"
        },
        "id": "feR5neVbCF2E",
        "outputId": "3c5914c8-9bfb-4b3d-c3ea-57372832e7ec"
      },
      "outputs": [
        {
          "name": "stdout",
          "output_type": "stream",
          "text": [
            "[4, 5]\n"
          ]
        }
      ],
      "source": [
        "print([y for x, y in E if x == start])"
      ]
    },
    {
      "cell_type": "code",
      "execution_count": 5,
      "metadata": {
        "colab": {
          "base_uri": "https://localhost:8080/"
        },
        "id": "M8O0B44ICF3t",
        "outputId": "0ffac191-4af9-4156-b5cb-4477d512ab3e"
      },
      "outputs": [
        {
          "name": "stdout",
          "output_type": "stream",
          "text": [
            "['Darek1', 'Darek2', 'Karol', 'Elżbieta', 'Henryk']\n",
            "['Pola', 'Elżbieta', 'Henryk']\n"
          ]
        }
      ],
      "source": [
        "#macierz sąsiedztwa (graf nieskierowany)\n",
        "V = [\"Darek1\", \"Darek2\", \"Pola\", \"Karol\", \"Elżbieta\", \"Henryk\"]\n",
        "E = [\n",
        "    [\"Pola\", \"Darek1\"], [\"Pola\", \"Darek2\"], [\"Pola\", \"Karol\"],\n",
        "    [\"Pola\", \"Elżbieta\"], [\"Pola\", \"Henryk\"],[\"Darek1\", \"Darek2\"],\n",
        "    [\"Karol\", \"Elżbieta\"], [\"Elżbieta\", \"Henryk\"], [\"Karol\", \"Henryk\"]\n",
        "]\n",
        "\n",
        "matrix = [\n",
        "    [0, 1, 1, 0, 0, 0], [1, 0, 1, 0, 0, 0], [1, 1, 0, 1, 1, 1], [0, 0, 1, 0, 1, 1], [0, 0, 1, 1, 0, 1], [0, 0, 1, 1, 1, 0]\n",
        "]\n",
        "\n",
        "def who_knows_person2(person, V, matrix):\n",
        "  friends = []\n",
        "  idx = V.index(person)\n",
        "\n",
        "  for i in range(len(V)):\n",
        "    if matrix[idx][i] == 1:\n",
        "      friends.append(V[i])\n",
        "  return friends\n",
        "\n",
        "print(who_knows_person2(\"Pola\", V, matrix))\n",
        "print(who_knows_person2(\"Karol\", V, matrix))"
      ]
    },
    {
      "cell_type": "code",
      "execution_count": 6,
      "metadata": {
        "colab": {
          "base_uri": "https://localhost:8080/"
        },
        "id": "GkVu_QnNCF7G",
        "outputId": "d583aa74-04b3-40b9-c821-dad067c5e425"
      },
      "outputs": [
        {
          "name": "stdout",
          "output_type": "stream",
          "text": [
            "4\n",
            "5\n"
          ]
        }
      ],
      "source": [
        "#macierz sąsiedztwa (graf skierowany)\n",
        "V = [1, 2, 3, 4, 5]\n",
        "E = [(1, 2), (1, 3), (2, 4), (3, 4), (3, 5)]\n",
        "matrix = [\n",
        "    [0, 1, 1, 0, 0], [0, 0, 0, 1, 0], [0, 0, 0, 1, 1], [0, 0, 0, 0, 0], [0, 0, 0, 0, 0]\n",
        "]\n",
        "\n",
        "start = 3\n",
        "for i in range(len(V)):\n",
        "  if matrix[V.index(start)][i] == 1:\n",
        "    print(V[i])"
      ]
    },
    {
      "cell_type": "code",
      "execution_count": 7,
      "metadata": {
        "colab": {
          "base_uri": "https://localhost:8080/"
        },
        "id": "j_bdLWdVCF9N",
        "outputId": "0f19d5d3-e25e-477a-9efb-12b9be7f97f4"
      },
      "outputs": [
        {
          "name": "stdout",
          "output_type": "stream",
          "text": [
            "[4, 5]\n"
          ]
        }
      ],
      "source": [
        "print([V[i] for i in range(len(V)) if matrix[V.index(start)][i] == 1])"
      ]
    },
    {
      "cell_type": "code",
      "execution_count": 8,
      "metadata": {
        "colab": {
          "base_uri": "https://localhost:8080/"
        },
        "id": "LJq4IqsrPGqd",
        "outputId": "1eeec06c-4a11-4963-af6d-5336ac61711a"
      },
      "outputs": [
        {
          "name": "stdout",
          "output_type": "stream",
          "text": [
            "{'HL': [], 'PC': [], 'C': [], 'E': [], 'R': [], 'O': []}\n"
          ]
        }
      ],
      "source": [
        "#lista sąsiedztwa (graf skierowany)\n",
        "V ={}\n",
        "def add_node(V, node):\n",
        "  if node in V.keys():\n",
        "    return\n",
        "  else:\n",
        "    V[node] = []\n",
        "\n",
        "add_node(V, 'HL')\n",
        "add_node(V, 'PC')\n",
        "add_node(V, 'C')\n",
        "add_node(V, 'E')\n",
        "add_node(V, 'R')\n",
        "add_node(V, 'O')\n",
        "\n",
        "print(V)"
      ]
    },
    {
      "cell_type": "code",
      "execution_count": 9,
      "metadata": {
        "colab": {
          "base_uri": "https://localhost:8080/"
        },
        "id": "3-yt9OjJPGjk",
        "outputId": "2f819884-9504-403a-a75c-fa4bce8456a5"
      },
      "outputs": [
        {
          "name": "stdout",
          "output_type": "stream",
          "text": [
            "{'HL': ['PC', 'C'], 'PC': ['R'], 'C': ['E'], 'E': ['R', 'C'], 'R': ['O'], 'O': []}\n"
          ]
        }
      ],
      "source": [
        "def add_edge(V, start, end):\n",
        "  if not start in V.keys() or not end in V.keys():\n",
        "    return\n",
        "  else:\n",
        "    if not end in V[start]:\n",
        "      V[start].append(end)\n",
        "\n",
        "add_edge(V, 'HL', 'PC')\n",
        "add_edge(V, 'HL', 'C')\n",
        "add_edge(V, 'C', 'E')\n",
        "add_edge(V, 'E', 'R')\n",
        "add_edge(V, 'E', 'C')\n",
        "add_edge(V, 'R', 'O')\n",
        "add_edge(V, 'PC', 'R')\n",
        "\n",
        "print(V)"
      ]
    },
    {
      "cell_type": "code",
      "execution_count": 10,
      "metadata": {
        "colab": {
          "base_uri": "https://localhost:8080/"
        },
        "id": "7RCrqFUjPGZ1",
        "outputId": "c6dc4408-e0f5-47e4-c44d-3179ffe7260d"
      },
      "outputs": [
        {
          "name": "stdout",
          "output_type": "stream",
          "text": [
            "{'HL': {}, 'PC': {}, 'C': {}, 'E': {}, 'R': {}, 'O': {}}\n"
          ]
        }
      ],
      "source": [
        "#graf skierowany z wagami\n",
        "V ={}\n",
        "def add_node(V, node):\n",
        "  if node in V.keys():\n",
        "    return\n",
        "  else:\n",
        "    V[node] = {}\n",
        "\n",
        "add_node(V, 'HL')\n",
        "add_node(V, 'PC')\n",
        "add_node(V, 'C')\n",
        "add_node(V, 'E')\n",
        "add_node(V, 'R')\n",
        "add_node(V, 'O')\n",
        "\n",
        "print(V)"
      ]
    },
    {
      "cell_type": "code",
      "execution_count": 11,
      "metadata": {
        "colab": {
          "base_uri": "https://localhost:8080/"
        },
        "id": "EomHc1QSU6Jg",
        "outputId": "61ee918c-6ad6-4ea3-f50d-0a3943e2b5bf"
      },
      "outputs": [
        {
          "name": "stdout",
          "output_type": "stream",
          "text": [
            "{'HL': {'PC': 0, 'C': 490}, 'PC': {'R': 0}, 'C': {'E': 125}, 'E': {'R': 0, 'C': 350}, 'R': {'O': 250}, 'O': {}}\n"
          ]
        }
      ],
      "source": [
        "def add_edge(V, start, end, weight):\n",
        "  if not start in V.keys() or not end in V.keys():\n",
        "    return\n",
        "  else:\n",
        "    if not end in V[start].keys():\n",
        "      V[start][end] = weight\n",
        "\n",
        "add_edge(V, 'HL', 'PC', 0)\n",
        "add_edge(V, 'HL', 'C', 490)\n",
        "add_edge(V, 'C', 'E', 125)\n",
        "add_edge(V, 'E', 'R', 0)\n",
        "add_edge(V, 'E', 'C', 350)\n",
        "add_edge(V, 'R', 'O', 250)\n",
        "add_edge(V, 'PC', 'R', 0)\n",
        "print(V)"
      ]
    }
  ],
  "metadata": {
    "colab": {
      "provenance": []
    },
    "kernelspec": {
      "display_name": "Python 3",
      "name": "python3"
    },
    "language_info": {
      "codemirror_mode": {
        "name": "ipython",
        "version": 3
      },
      "file_extension": ".py",
      "mimetype": "text/x-python",
      "name": "python",
      "nbconvert_exporter": "python",
      "pygments_lexer": "ipython3",
      "version": "3.9.6"
    }
  },
  "nbformat": 4,
  "nbformat_minor": 0
}
