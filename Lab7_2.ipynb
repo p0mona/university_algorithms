{
  "cells": [
    {
      "cell_type": "code",
      "execution_count": 1,
      "metadata": {
        "id": "fXAGqzCBHnDW"
      },
      "outputs": [],
      "source": [
        "def search_linear(value, list):\n",
        "  index = 0\n",
        "  found = False\n",
        "  while not found and index < len(list):\n",
        "    if list[index] == value:\n",
        "      found = True\n",
        "    else:\n",
        "      index += 1\n",
        "  return index if index < len(list) else None"
      ]
    },
    {
      "cell_type": "code",
      "execution_count": 2,
      "metadata": {
        "colab": {
          "base_uri": "https://localhost:8080/"
        },
        "id": "G3ezBMVgHpq5",
        "outputId": "cb132bcb-95f0-46b3-d7c8-f03d57ac97d1"
      },
      "outputs": [
        {
          "name": "stdout",
          "output_type": "stream",
          "text": [
            "Searching value 710505\n",
            "Linear search: value found at 710505 in 0.07455897331237793 seconds\n"
          ]
        }
      ],
      "source": [
        "import time\n",
        "import random\n",
        "\n",
        "max_len = 1000000\n",
        "ordered_list = list(range(max_len))\n",
        "value = random.randint(0, max_len)\n",
        "\n",
        "print(f\"Searching value {value}\")\n",
        "\n",
        "start = time.time()\n",
        "index = search_linear(value, ordered_list)\n",
        "stop = time.time()\n",
        "print(f\"Linear search: value found at {index} in {stop - start} seconds\")"
      ]
    },
    {
      "cell_type": "code",
      "execution_count": 3,
      "metadata": {
        "id": "sjoM5Eg_Hpsw"
      },
      "outputs": [],
      "source": [
        "def search_binary(value, list):\n",
        "  start_idx = 0\n",
        "  end_idx = len(list) - 1\n",
        "  found = False\n",
        "  while not found and start_idx <= end_idx:\n",
        "    mid_idx = (start_idx + end_idx) // 2\n",
        "    if list[mid_idx] == value:\n",
        "      found = True\n",
        "    else:\n",
        "      if value < list[mid_idx]:\n",
        "        end_idx = mid_idx - 1\n",
        "      else:\n",
        "        start_idx = mid_idx + 1\n",
        "  if found:\n",
        "    return mid_idx\n",
        "  else:\n",
        "    return None"
      ]
    },
    {
      "cell_type": "code",
      "execution_count": 4,
      "metadata": {
        "colab": {
          "base_uri": "https://localhost:8080/"
        },
        "id": "6_dSzT78H3z6",
        "outputId": "59c95634-a8ca-4f80-bba5-675fc54b9ef6"
      },
      "outputs": [
        {
          "name": "stdout",
          "output_type": "stream",
          "text": [
            "Binary search: value found at 710505 in 9.133399999949887e-05 seconds\n"
          ]
        }
      ],
      "source": [
        "start = time.perf_counter()\n",
        "index = search_binary(value, ordered_list)\n",
        "stop = time.perf_counter()\n",
        "print(f\"Binary search: value found at {index} in {stop - start} seconds\")"
      ]
    }
  ],
  "metadata": {
    "colab": {
      "provenance": []
    },
    "kernelspec": {
      "display_name": "Python 3",
      "name": "python3"
    },
    "language_info": {
      "codemirror_mode": {
        "name": "ipython",
        "version": 3
      },
      "file_extension": ".py",
      "mimetype": "text/x-python",
      "name": "python",
      "nbconvert_exporter": "python",
      "pygments_lexer": "ipython3",
      "version": "3.9.6"
    }
  },
  "nbformat": 4,
  "nbformat_minor": 0
}
