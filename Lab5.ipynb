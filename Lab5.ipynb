{
  "cells": [
    {
      "cell_type": "code",
      "execution_count": 1,
      "metadata": {
        "id": "BPLe-J3eA1tj"
      },
      "outputs": [],
      "source": [
        "#ciąg fibbonacciego\n",
        "def fib(n):\n",
        "  if n < 0:\n",
        "    return None\n",
        "  elif n <= 1:\n",
        "    return n\n",
        "  else:\n",
        "    return fib(n - 2) + fib(n - 1)"
      ]
    },
    {
      "cell_type": "code",
      "execution_count": 2,
      "metadata": {
        "colab": {
          "base_uri": "https://localhost:8080/"
        },
        "id": "rtxnIbHeA9GB",
        "outputId": "007d4d63-2e03-492e-a0f3-0131873c04f5"
      },
      "outputs": [
        {
          "data": {
            "text/plain": [
              "0"
            ]
          },
          "execution_count": 2,
          "metadata": {},
          "output_type": "execute_result"
        }
      ],
      "source": [
        "fib(0)"
      ]
    },
    {
      "cell_type": "code",
      "execution_count": 3,
      "metadata": {
        "colab": {
          "base_uri": "https://localhost:8080/"
        },
        "id": "UvhoJZZEA9H3",
        "outputId": "76b320a9-67e4-4b70-d502-0a3309678f8c"
      },
      "outputs": [
        {
          "data": {
            "text/plain": [
              "1"
            ]
          },
          "execution_count": 3,
          "metadata": {},
          "output_type": "execute_result"
        }
      ],
      "source": [
        "fib(1)"
      ]
    },
    {
      "cell_type": "code",
      "execution_count": 4,
      "metadata": {
        "colab": {
          "base_uri": "https://localhost:8080/"
        },
        "id": "xznsflErA9LQ",
        "outputId": "be56e078-ee88-4f28-dbe9-786916f7ac01"
      },
      "outputs": [
        {
          "data": {
            "text/plain": [
              "1"
            ]
          },
          "execution_count": 4,
          "metadata": {},
          "output_type": "execute_result"
        }
      ],
      "source": [
        "fib(2)"
      ]
    },
    {
      "cell_type": "code",
      "execution_count": 5,
      "metadata": {
        "colab": {
          "base_uri": "https://localhost:8080/"
        },
        "id": "15YOUlPgA9NR",
        "outputId": "eabce376-f191-4f9b-bc7e-430478c55fbb"
      },
      "outputs": [
        {
          "data": {
            "text/plain": [
              "3"
            ]
          },
          "execution_count": 5,
          "metadata": {},
          "output_type": "execute_result"
        }
      ],
      "source": [
        "fib(4)"
      ]
    },
    {
      "cell_type": "code",
      "execution_count": 6,
      "metadata": {
        "colab": {
          "base_uri": "https://localhost:8080/"
        },
        "id": "R3cakNvBA9RA",
        "outputId": "df936007-8b69-43fb-87c7-1a52d4337ed7"
      },
      "outputs": [
        {
          "data": {
            "text/plain": [
              "89"
            ]
          },
          "execution_count": 6,
          "metadata": {},
          "output_type": "execute_result"
        }
      ],
      "source": [
        "fib(11)"
      ]
    },
    {
      "cell_type": "code",
      "execution_count": 7,
      "metadata": {
        "id": "KBsom_b4A9UD"
      },
      "outputs": [],
      "source": [
        "def reverse(text):\n",
        "  if len(text) == 0:\n",
        "    return None\n",
        "  elif len(text) == 1:\n",
        "    return text[0]\n",
        "  else:\n",
        "    return reverse(text[1:]) + text[0]"
      ]
    },
    {
      "cell_type": "code",
      "execution_count": 8,
      "metadata": {
        "colab": {
          "base_uri": "https://localhost:8080/",
          "height": 35
        },
        "id": "V83opeekC2qs",
        "outputId": "66864ab7-bd37-45dc-f615-a388c0f3bd64"
      },
      "outputs": [
        {
          "data": {
            "text/plain": [
              "'orgellA'"
            ]
          },
          "execution_count": 8,
          "metadata": {},
          "output_type": "execute_result"
        }
      ],
      "source": [
        "text = \"Allegro\"\n",
        "reverse(text)"
      ]
    },
    {
      "cell_type": "code",
      "execution_count": 9,
      "metadata": {
        "id": "pKaNbme-C2lk"
      },
      "outputs": [],
      "source": [
        "def sort_merge(list):\n",
        "  list_len =len(list)\n",
        "  sorted_list = []\n",
        "\n",
        "  if list_len <= 1:\n",
        "    sorted_list = list\n",
        "  else:\n",
        "    middle_point = list_len // 2\n",
        "    list_L = sort_merge(list[:middle_point])\n",
        "    list_R = sort_merge(list[middle_point:])\n",
        "\n",
        "    idx_L = idx_R = 0\n",
        "    while idx_L < len(list_L) and idx_R < len(list_R):\n",
        "      if list_L[idx_L] < list_R[idx_R]:\n",
        "        sorted_list.append(list_L[idx_L])\n",
        "        idx_L += 1\n",
        "      else:\n",
        "        sorted_list.append(list_R[idx_R])\n",
        "        idx_R += 1\n",
        "    sorted_list.extend(list_L[idx_L:])\n",
        "    sorted_list.extend(list_R[idx_R:])\n",
        "  print(f\"DEBUG: {list} --> {sorted_list}\")\n",
        "  return sorted_list"
      ]
    },
    {
      "cell_type": "code",
      "execution_count": 10,
      "metadata": {
        "colab": {
          "base_uri": "https://localhost:8080/"
        },
        "id": "yrn3WmC7C2j0",
        "outputId": "de653c9c-aa05-4e31-c3cf-5911fc8f17e7"
      },
      "outputs": [
        {
          "name": "stdout",
          "output_type": "stream",
          "text": [
            "DEBUG: [1] --> [1]\n",
            "DEBUG: [3] --> [3]\n",
            "DEBUG: [1, 3] --> [1, 3]\n",
            "DEBUG: [9] --> [9]\n",
            "DEBUG: [2] --> [2]\n",
            "DEBUG: [0] --> [0]\n",
            "DEBUG: [2, 0] --> [0, 2]\n",
            "DEBUG: [9, 2, 0] --> [0, 2, 9]\n",
            "DEBUG: [1, 3, 9, 2, 0] --> [0, 1, 2, 3, 9]\n",
            "DEBUG: [6] --> [6]\n",
            "DEBUG: [4] --> [4]\n",
            "DEBUG: [6, 4] --> [4, 6]\n",
            "DEBUG: [7] --> [7]\n",
            "DEBUG: [5] --> [5]\n",
            "DEBUG: [3] --> [3]\n",
            "DEBUG: [5, 3] --> [3, 5]\n",
            "DEBUG: [7, 5, 3] --> [3, 5, 7]\n",
            "DEBUG: [6, 4, 7, 5, 3] --> [3, 4, 5, 6, 7]\n",
            "DEBUG: [1, 3, 9, 2, 0, 6, 4, 7, 5, 3] --> [0, 1, 2, 3, 3, 4, 5, 6, 7, 9]\n"
          ]
        }
      ],
      "source": [
        "list = [1,3,9,2,0,6,4,7,5,3]\n",
        "list = sort_merge(list)"
      ]
    }
  ],
  "metadata": {
    "colab": {
      "provenance": []
    },
    "kernelspec": {
      "display_name": "Python 3",
      "name": "python3"
    },
    "language_info": {
      "codemirror_mode": {
        "name": "ipython",
        "version": 3
      },
      "file_extension": ".py",
      "mimetype": "text/x-python",
      "name": "python",
      "nbconvert_exporter": "python",
      "pygments_lexer": "ipython3",
      "version": "3.9.6"
    }
  },
  "nbformat": 4,
  "nbformat_minor": 0
}
