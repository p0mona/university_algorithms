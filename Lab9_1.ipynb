{
  "nbformat": 4,
  "nbformat_minor": 0,
  "metadata": {
    "colab": {
      "provenance": []
    },
    "kernelspec": {
      "name": "python3",
      "display_name": "Python 3"
    },
    "language_info": {
      "name": "python"
    }
  },
  "cells": [
    {
      "cell_type": "code",
      "execution_count": null,
      "metadata": {
        "id": "mQL6eODcNV3K"
      },
      "outputs": [],
      "source": [
        "my_path = \"/home/boss/data/projects/bakery/prices.csv\""
      ]
    },
    {
      "cell_type": "code",
      "source": [
        "list = my_path.split(\"/\")"
      ],
      "metadata": {
        "id": "HVYD3MDhNr5D"
      },
      "execution_count": null,
      "outputs": []
    },
    {
      "cell_type": "code",
      "source": [
        "list"
      ],
      "metadata": {
        "colab": {
          "base_uri": "https://localhost:8080/"
        },
        "id": "RJ2ceajzOcA7",
        "outputId": "2e15fe5f-df2e-47d7-fca7-f1048d2b4998"
      },
      "execution_count": null,
      "outputs": [
        {
          "output_type": "execute_result",
          "data": {
            "text/plain": [
              "['', 'home', 'boss', 'data', 'projects', 'bakery', 'prices.csv']"
            ]
          },
          "metadata": {},
          "execution_count": 17
        }
      ]
    },
    {
      "cell_type": "code",
      "source": [
        "import queue\n",
        "lifo = queue.LifoQueue()"
      ],
      "metadata": {
        "id": "rA13G2eeOc_c"
      },
      "execution_count": null,
      "outputs": []
    },
    {
      "cell_type": "code",
      "source": [
        "for i in list:\n",
        "  lifo.put(i)"
      ],
      "metadata": {
        "id": "AG2FE2qoOrt8"
      },
      "execution_count": null,
      "outputs": []
    },
    {
      "cell_type": "code",
      "source": [
        "while lifo.qsize() > 0:\n",
        "  print(lifo.get())"
      ],
      "metadata": {
        "colab": {
          "base_uri": "https://localhost:8080/"
        },
        "id": "G1vb7pprO-tH",
        "outputId": "82464b86-8d06-42e1-a475-8b60d5bfacdc"
      },
      "execution_count": null,
      "outputs": [
        {
          "output_type": "stream",
          "name": "stdout",
          "text": [
            "prices.csv\n",
            "bakery\n",
            "projects\n",
            "data\n",
            "boss\n",
            "home\n",
            "\n"
          ]
        }
      ]
    }
  ]
}