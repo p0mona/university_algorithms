{
  "cells": [
    {
      "cell_type": "code",
      "execution_count": 1,
      "metadata": {
        "id": "xU0z9bz_5j12"
      },
      "outputs": [],
      "source": [
        "s_1 = {\n",
        "    \"hour\":\"10.15\",\n",
        "    \"type\":\"laboratory\",\n",
        "    \"topic\":\"Alorytmy i struktury danych\",\n",
        "    \"teacher\":\"dr Sylwia Stachowiak\",\n",
        "    \"classroom\":\"N021k\"\n",
        "}\n",
        "s_2 = {\n",
        "    \"hour\":\"08.30\",\n",
        "    \"type\":\"lekcja\",\n",
        "    \"topic\":\"Język angielski\",\n",
        "    \"teacher\":\"Sylwia Ignatowska\",\n",
        "    \"classroom\":\"S105\"\n",
        "}\n",
        "s_3 = {\n",
        "    \"hour\":\"12.00\",\n",
        "    \"type\":\"laboratory\",\n",
        "    \"topic\":\"Analiza matematyczna 1\",\n",
        "    \"teacher\":\"dr Oleg T\",\n",
        "    \"classroom\":\"N318\"\n",
        "}"
      ]
    },
    {
      "cell_type": "code",
      "execution_count": 2,
      "metadata": {
        "colab": {
          "base_uri": "https://localhost:8080/"
        },
        "id": "r7u8xMVM6boy",
        "outputId": "c5838f04-4316-4d70-ce51-ef3469a00119"
      },
      "outputs": [
        {
          "data": {
            "text/plain": [
              "{'hour': '10.15',\n",
              " 'type': 'laboratory',\n",
              " 'topic': 'Alorytmy i struktury danych',\n",
              " 'teacher': 'dr Sylwia Stachowiak',\n",
              " 'classroom': 'N021k'}"
            ]
          },
          "execution_count": 2,
          "metadata": {},
          "output_type": "execute_result"
        }
      ],
      "source": [
        "s_1\n"
      ]
    },
    {
      "cell_type": "code",
      "execution_count": 3,
      "metadata": {
        "colab": {
          "base_uri": "https://localhost:8080/"
        },
        "id": "cZ3GgXtm7UcS",
        "outputId": "3a18ea3a-04bf-4e0b-dee6-09bf9df34818"
      },
      "outputs": [
        {
          "data": {
            "text/plain": [
              "{'hour': '08.30',\n",
              " 'type': 'lekcja',\n",
              " 'topic': 'Język angielski',\n",
              " 'teacher': 'Sylwia Ignatowska',\n",
              " 'classroom': 'S105'}"
            ]
          },
          "execution_count": 3,
          "metadata": {},
          "output_type": "execute_result"
        }
      ],
      "source": [
        "s_2"
      ]
    },
    {
      "cell_type": "code",
      "execution_count": 4,
      "metadata": {
        "colab": {
          "base_uri": "https://localhost:8080/"
        },
        "id": "CfwwLknH7Ugr",
        "outputId": "d11742fa-6b2f-48a0-a566-8a8daf6a5f38"
      },
      "outputs": [
        {
          "data": {
            "text/plain": [
              "{'hour': '12.00',\n",
              " 'type': 'laboratory',\n",
              " 'topic': 'Analiza matematyczna 1',\n",
              " 'teacher': 'dr Oleg T',\n",
              " 'classroom': 'N318'}"
            ]
          },
          "execution_count": 4,
          "metadata": {},
          "output_type": "execute_result"
        }
      ],
      "source": [
        "s_3"
      ]
    },
    {
      "cell_type": "code",
      "execution_count": 5,
      "metadata": {
        "id": "Jc7ByNG67X15"
      },
      "outputs": [],
      "source": [
        "schedule_list = [s_1, s_2, s_3]"
      ]
    },
    {
      "cell_type": "code",
      "execution_count": 6,
      "metadata": {
        "colab": {
          "base_uri": "https://localhost:8080/"
        },
        "id": "niX38ku17nKg",
        "outputId": "23d52863-c18f-472e-904a-a1de2a55fa2a"
      },
      "outputs": [
        {
          "data": {
            "text/plain": [
              "[{'hour': '10.15',\n",
              "  'type': 'laboratory',\n",
              "  'topic': 'Alorytmy i struktury danych',\n",
              "  'teacher': 'dr Sylwia Stachowiak',\n",
              "  'classroom': 'N021k'},\n",
              " {'hour': '08.30',\n",
              "  'type': 'lekcja',\n",
              "  'topic': 'Język angielski',\n",
              "  'teacher': 'Sylwia Ignatowska',\n",
              "  'classroom': 'S105'},\n",
              " {'hour': '12.00',\n",
              "  'type': 'laboratory',\n",
              "  'topic': 'Analiza matematyczna 1',\n",
              "  'teacher': 'dr Oleg T',\n",
              "  'classroom': 'N318'}]"
            ]
          },
          "execution_count": 6,
          "metadata": {},
          "output_type": "execute_result"
        }
      ],
      "source": [
        "schedule_list"
      ]
    },
    {
      "cell_type": "code",
      "execution_count": 7,
      "metadata": {
        "id": "zZw6kCbT9B3N"
      },
      "outputs": [],
      "source": [
        "schedule_dict = {}"
      ]
    },
    {
      "cell_type": "code",
      "execution_count": 8,
      "metadata": {
        "id": "XIbovBf17ncR"
      },
      "outputs": [],
      "source": [
        "for subjekt in schedule_list:\n",
        "  schedule_dict[subjekt[\"topic\"]] = subjekt"
      ]
    },
    {
      "cell_type": "code",
      "execution_count": 9,
      "metadata": {
        "colab": {
          "base_uri": "https://localhost:8080/"
        },
        "id": "GrtPhbnk8fAF",
        "outputId": "07c87fa8-2729-42c4-a73b-8129ecb881d5"
      },
      "outputs": [
        {
          "data": {
            "text/plain": [
              "{'Alorytmy i struktury danych': {'hour': '10.15',\n",
              "  'type': 'laboratory',\n",
              "  'topic': 'Alorytmy i struktury danych',\n",
              "  'teacher': 'dr Sylwia Stachowiak',\n",
              "  'classroom': 'N021k'},\n",
              " 'Język angielski': {'hour': '08.30',\n",
              "  'type': 'lekcja',\n",
              "  'topic': 'Język angielski',\n",
              "  'teacher': 'Sylwia Ignatowska',\n",
              "  'classroom': 'S105'},\n",
              " 'Analiza matematyczna 1': {'hour': '12.00',\n",
              "  'type': 'laboratory',\n",
              "  'topic': 'Analiza matematyczna 1',\n",
              "  'teacher': 'dr Oleg T',\n",
              "  'classroom': 'N318'}}"
            ]
          },
          "execution_count": 9,
          "metadata": {},
          "output_type": "execute_result"
        }
      ],
      "source": [
        "schedule_dict"
      ]
    },
    {
      "cell_type": "code",
      "execution_count": 10,
      "metadata": {
        "colab": {
          "base_uri": "https://localhost:8080/"
        },
        "id": "xRPlpLdP8fKU",
        "outputId": "2e72380c-6e6d-43f3-cd40-eb21460b95c6"
      },
      "outputs": [
        {
          "name": "stdout",
          "output_type": "stream",
          "text": [
            "10.15 Alorytmy i struktury danych N021k\n",
            "08.30 Język angielski S105\n",
            "12.00 Analiza matematyczna 1 N318\n"
          ]
        }
      ],
      "source": [
        "for subjekt in schedule_list:\n",
        "  print(\"{} {} {}\".format((subjekt[\"hour\"]), (subjekt[\"topic\"]), (subjekt[\"classroom\"])))"
      ]
    },
    {
      "cell_type": "code",
      "execution_count": 11,
      "metadata": {
        "colab": {
          "base_uri": "https://localhost:8080/"
        },
        "id": "PqcrY6sfABeo",
        "outputId": "b069b0f7-9188-4942-c737-dad84e0c3314"
      },
      "outputs": [
        {
          "name": "stdout",
          "output_type": "stream",
          "text": [
            "10.15 Alorytmy i struktury danych N021k\n",
            "08.30 Język angielski S105\n",
            "12.00 Analiza matematyczna 1 N318\n"
          ]
        }
      ],
      "source": [
        "for k, v in schedule_dict.items():\n",
        "  print(\"{} {} {}\".format(v[\"hour\"], v[\"topic\"],v[\"classroom\"]))"
      ]
    }
  ],
  "metadata": {
    "colab": {
      "provenance": []
    },
    "kernelspec": {
      "display_name": "Python 3",
      "name": "python3"
    },
    "language_info": {
      "codemirror_mode": {
        "name": "ipython",
        "version": 3
      },
      "file_extension": ".py",
      "mimetype": "text/x-python",
      "name": "python",
      "nbconvert_exporter": "python",
      "pygments_lexer": "ipython3",
      "version": "3.9.6"
    }
  },
  "nbformat": 4,
  "nbformat_minor": 0
}
