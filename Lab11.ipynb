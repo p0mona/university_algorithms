{
  "cells": [
    {
      "cell_type": "code",
      "execution_count": 1,
      "metadata": {
        "colab": {
          "base_uri": "https://localhost:8080/"
        },
        "id": "MC-v1mH-E2vX",
        "outputId": "4641501f-93c1-4a19-c328-966fb121151f"
      },
      "outputs": [
        {
          "name": "stdout",
          "output_type": "stream",
          "text": [
            "Degree of P: 5\n",
            "Degree of H: 3\n"
          ]
        }
      ],
      "source": [
        "V = {\n",
        "    \"P\": [\"D1\", \"D2\", \"K\", \"E\", \"H\"],\n",
        "    \"D1\": [\"D2\", \"P\"],\n",
        "    \"D2\": [\"D1\", \"P\"],\n",
        "    \"K\": [\"P\", \"E\", \"H\"],\n",
        "    \"E\" : [\"K\", \"H\", \"P\"],\n",
        "    \"H\": [\"P\", \"E\", \"K\"]\n",
        "}\n",
        "\n",
        "# funkcja wyznaczająca stopien wierzchołka w grafie\n",
        "\n",
        "def node_degree(V, node):\n",
        "  if node in V.keys():\n",
        "    return len(V[node])\n",
        "  else:\n",
        "    return -1\n",
        "\n",
        "\n",
        "print(f\"Degree of P: {node_degree(V, 'P')}\")\n",
        "print(f\"Degree of H: {node_degree(V, 'H')}\")"
      ]
    },
    {
      "cell_type": "code",
      "execution_count": 2,
      "metadata": {
        "colab": {
          "base_uri": "https://localhost:8080/"
        },
        "id": "HGOTVFNOE8Xa",
        "outputId": "fbc8661e-1735-46f9-a381-adbfa80ef3fa"
      },
      "outputs": [
        {
          "name": "stdout",
          "output_type": "stream",
          "text": [
            "Degree of P : 5\n",
            "Degree of D1 : 2\n",
            "Degree of D2 : 2\n",
            "Degree of K : 3\n",
            "Degree of E : 3\n",
            "Degree of H : 3\n"
          ]
        }
      ],
      "source": [
        "for node in V.keys():\n",
        "  print(f\"Degree of {node} : {node_degree(V, node)}\")"
      ]
    },
    {
      "cell_type": "code",
      "execution_count": 3,
      "metadata": {
        "colab": {
          "base_uri": "https://localhost:8080/"
        },
        "id": "gEL199cwE8ZK",
        "outputId": "402d250b-4d40-435b-f621-4eeb53ee65fb"
      },
      "outputs": [
        {
          "name": "stdout",
          "output_type": "stream",
          "text": [
            "Graph degree: 5\n"
          ]
        }
      ],
      "source": [
        "# funkcja wyznaczająca stopien całego grafu\n",
        "def graph_degree(V):\n",
        "  max_degree = 0\n",
        "\n",
        "  for node in V.keys():\n",
        "    degree = node_degree(V, node)\n",
        "    if degree > max_degree:\n",
        "      max_degree = degree\n",
        "  return max_degree\n",
        "\n",
        "print(f\"Graph degree: {graph_degree(V)}\")"
      ]
    },
    {
      "cell_type": "code",
      "execution_count": 4,
      "metadata": {
        "colab": {
          "base_uri": "https://localhost:8080/"
        },
        "id": "zXv132VdE8bK",
        "outputId": "fd8363c2-18a0-48d5-bd53-a6a1e33550f8"
      },
      "outputs": [
        {
          "name": "stdout",
          "output_type": "stream",
          "text": [
            "Graph degree: 5\n"
          ]
        }
      ],
      "source": [
        "def graph_degree2(V):\n",
        "  return max([node_degree(V, node) for node in V.keys()])\n",
        "\n",
        "print(f\"Graph degree: {graph_degree2(V)}\")"
      ]
    },
    {
      "cell_type": "code",
      "execution_count": 5,
      "metadata": {
        "colab": {
          "base_uri": "https://localhost:8080/"
        },
        "id": "fehgp3krE8da",
        "outputId": "567849f9-b8ee-4d46-a4f9-6c180e10754d"
      },
      "outputs": [
        {
          "name": "stdout",
          "output_type": "stream",
          "text": [
            "REQ1:  True\n"
          ]
        }
      ],
      "source": [
        "lines = {\n",
        "    \"Bruksela\" : [\" Rzym\", \"Berlin\"],\n",
        "    \"Rzym\" : [\"Madryt\", \"Lizbona\"],\n",
        "    \"Berlin\": [\"Warszawa\"],\n",
        "    \"Wilno\": [\"Sztokholm\"],\n",
        "    \"Madryt\": [\"Berlin\", \"Bruksela\"],\n",
        "    \"Lizbona\" : [\"Madryt\"],\n",
        "    \"Warszawa\" : [\"Wilno\"],\n",
        "    \"Sztokholm\": []\n",
        "}\n",
        "\n",
        "req1 ={\n",
        "    \"Rzym\" : [\"Lizbona\"],\n",
        "    \"Lizbona\" : [\"Madryt\"],\n",
        "    \"Madryt\" : [\"Berlin\", \"Bruksela\"]\n",
        "}\n",
        "\n",
        "def is_subgraph(V, V_sub):\n",
        "  for v in V_sub.keys():\n",
        "    if not v in V.keys():\n",
        "      print(\"Missing node:\", v)\n",
        "      return False\n",
        "    else:\n",
        "      for e in V_sub[v]:\n",
        "        if not e in V[v]:\n",
        "          print(\"Missing connection:\", v, e)\n",
        "          return False\n",
        "  return True\n",
        "\n",
        "\n",
        "print(\"REQ1: \", is_subgraph(lines, req1))"
      ]
    },
    {
      "cell_type": "code",
      "execution_count": 6,
      "metadata": {
        "colab": {
          "base_uri": "https://localhost:8080/"
        },
        "id": "pmFex1r1E80j",
        "outputId": "7cf552ec-9392-4cd7-f5f1-f8c5f67eff2d"
      },
      "outputs": [
        {
          "name": "stdout",
          "output_type": "stream",
          "text": [
            "Missing connection: Berlin Sztokholm\n",
            "REQ2:  False\n"
          ]
        }
      ],
      "source": [
        "req2 = {\n",
        "    \"Bruksela\" : [\"Berlin\"],\n",
        "    \"Berlin\" : [\"Sztokholm\"]\n",
        "}\n",
        "print(\"REQ2: \", is_subgraph(lines, req2))"
      ]
    },
    {
      "cell_type": "code",
      "execution_count": 7,
      "metadata": {
        "colab": {
          "base_uri": "https://localhost:8080/"
        },
        "id": "qC-HsvrkE82q",
        "outputId": "a1117597-8afa-4ed7-f05a-d9e5b896eaaf"
      },
      "outputs": [
        {
          "name": "stdout",
          "output_type": "stream",
          "text": [
            "Missing node: Londyn\n",
            "REQ3:  False\n"
          ]
        }
      ],
      "source": [
        "req3 = {\n",
        "    \"Londyn\": [\"Bruksela\"],\n",
        "    \"Bruksela\":[\"Berlin\"]\n",
        "}\n",
        "print(\"REQ3: \", is_subgraph(lines, req3))"
      ]
    },
    {
      "cell_type": "code",
      "execution_count": 8,
      "metadata": {
        "colab": {
          "base_uri": "https://localhost:8080/"
        },
        "id": "OCVOhHkjRd70",
        "outputId": "1ed81007-ce45-4099-c8df-9fc41b72dc4e"
      },
      "outputs": [
        {
          "name": "stdout",
          "output_type": "stream",
          "text": [
            "Path P - D1 - True\n",
            "Path P - D2 - True\n",
            "Path P - K - True\n",
            "Path P - E - True\n",
            "Path P - H - True\n",
            "Path D1 - P - True\n",
            "Path D1 - D2 - True\n",
            "Path D1 - K - True\n",
            "Path D1 - E - True\n",
            "Path D1 - H - True\n",
            "Path D2 - P - True\n",
            "Path D2 - D1 - True\n",
            "Path D2 - K - True\n",
            "Path D2 - E - True\n",
            "Path D2 - H - True\n",
            "Path K - P - True\n",
            "Path K - D1 - True\n",
            "Path K - D2 - True\n",
            "Path K - E - True\n",
            "Path K - H - True\n",
            "Path E - P - True\n",
            "Path E - D1 - True\n",
            "Path E - D2 - True\n",
            "Path E - K - True\n",
            "Path E - H - True\n",
            "Path H - P - True\n",
            "Path H - D1 - True\n",
            "Path H - D2 - True\n",
            "Path H - K - True\n",
            "Path H - E - True\n"
          ]
        }
      ],
      "source": [
        "V = {\n",
        "    \"P\": [\"D1\", \"D2\", \"K\", \"E\", \"H\"],\n",
        "    \"D1\": [\"D2\", \"P\"],\n",
        "    \"D2\": [\"D1\", \"P\"],\n",
        "    \"K\": [\"P\", \"E\", \"H\"],\n",
        "    \"E\" : [\"K\", \"H\", \"P\"],\n",
        "    \"H\": [\"P\", \"E\", \"K\"]\n",
        "}\n",
        "\n",
        "\n",
        "def is_path_between(V, begin, end):\n",
        "\n",
        "  list_to_check = [begin]\n",
        "  list_visited = []\n",
        "\n",
        "  while list_to_check:\n",
        "    current_node = list_to_check.pop(0)\n",
        "    if current_node == end:\n",
        "      return True\n",
        "    else:\n",
        "      if current_node not in list_visited:\n",
        "        list_visited.append(current_node)\n",
        "        list_to_check.extend(V[current_node])\n",
        "\n",
        "  return False\n",
        "\n",
        "\n",
        "for b in V.keys():\n",
        "  for e in V.keys():\n",
        "    if b != e:\n",
        "      print(f\"Path {b} - {e} - {is_path_between(V, b, e)}\")\n",
        "\n"
      ]
    },
    {
      "cell_type": "code",
      "execution_count": 9,
      "metadata": {
        "colab": {
          "base_uri": "https://localhost:8080/"
        },
        "id": "srDItUROReCZ",
        "outputId": "4cf8b751-a97a-4780-94c7-9a684a44177f"
      },
      "outputs": [
        {
          "name": "stdout",
          "output_type": "stream",
          "text": [
            "Path P - D1 - ['P', 'D1']\n",
            "Path P - D2 - ['P', 'D2']\n",
            "Path P - K - ['P', 'K']\n",
            "Path P - E - ['P', 'E']\n",
            "Path P - H - ['P', 'H']\n",
            "Path D1 - P - ['D1', 'P']\n",
            "Path D1 - D2 - ['D1', 'D2']\n",
            "Path D1 - K - ['D1', 'P', 'K']\n",
            "Path D1 - E - ['D1', 'P', 'E']\n",
            "Path D1 - H - ['D1', 'P', 'H']\n",
            "Path D2 - P - ['D2', 'P']\n",
            "Path D2 - D1 - ['D2', 'D1']\n",
            "Path D2 - K - ['D2', 'P', 'K']\n",
            "Path D2 - E - ['D2', 'P', 'E']\n",
            "Path D2 - H - ['D2', 'P', 'H']\n",
            "Path K - P - ['K', 'P']\n",
            "Path K - D1 - ['K', 'P', 'D1']\n",
            "Path K - D2 - ['K', 'P', 'D2']\n",
            "Path K - E - ['K', 'E']\n",
            "Path K - H - ['K', 'H']\n",
            "Path E - P - ['E', 'P']\n",
            "Path E - D1 - ['E', 'P', 'D1']\n",
            "Path E - D2 - ['E', 'P', 'D2']\n",
            "Path E - K - ['E', 'K']\n",
            "Path E - H - ['E', 'H']\n",
            "Path H - P - ['H', 'P']\n",
            "Path H - D1 - ['H', 'P', 'D1']\n",
            "Path H - D2 - ['H', 'P', 'D2']\n",
            "Path H - K - ['H', 'K']\n",
            "Path H - E - ['H', 'E']\n"
          ]
        }
      ],
      "source": [
        "def is_path_between2(V, begin, end):\n",
        "\n",
        "  list_to_check = [[begin]]\n",
        "  list_visited = []\n",
        "\n",
        "  while list_to_check:\n",
        "    current_path = list_to_check.pop(0)\n",
        "    current_node = current_path[-1]\n",
        "    if current_node == end:\n",
        "      return current_path\n",
        "    else:\n",
        "      if current_node not in list_visited:\n",
        "        list_visited.append(current_node)\n",
        "        for n in V[current_node]:\n",
        "          new_path = current_path.copy()\n",
        "          new_path.append(n)\n",
        "          list_to_check.append(new_path)\n",
        "\n",
        "  return []\n",
        "\n",
        "\n",
        "for b in V.keys():\n",
        "  for e in V.keys():\n",
        "    if b != e:\n",
        "      print(f\"Path {b} - {e} - {is_path_between2(V, b, e)}\")"
      ]
    }
  ],
  "metadata": {
    "colab": {
      "provenance": []
    },
    "kernelspec": {
      "display_name": "Python 3",
      "name": "python3"
    },
    "language_info": {
      "codemirror_mode": {
        "name": "ipython",
        "version": 3
      },
      "file_extension": ".py",
      "mimetype": "text/x-python",
      "name": "python",
      "nbconvert_exporter": "python",
      "pygments_lexer": "ipython3",
      "version": "3.9.6"
    }
  },
  "nbformat": 4,
  "nbformat_minor": 0
}
