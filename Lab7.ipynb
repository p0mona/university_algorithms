{
  "cells": [
    {
      "cell_type": "code",
      "execution_count": 1,
      "metadata": {
        "id": "4FlpFv6I9z9o"
      },
      "outputs": [],
      "source": [
        "def search_linear_1(value, list):\n",
        "  index = 0\n",
        "  found = False\n",
        "  while not found and index < len(list):\n",
        "    if list[index] == value:\n",
        "      found = True\n",
        "    else:\n",
        "      index += 1\n",
        "  return index"
      ]
    },
    {
      "cell_type": "code",
      "execution_count": 2,
      "metadata": {
        "colab": {
          "base_uri": "https://localhost:8080/"
        },
        "id": "WLYMCyDZ96XK",
        "outputId": "0219b7b3-6b80-439c-9840-07217684a500"
      },
      "outputs": [
        {
          "name": "stdout",
          "output_type": "stream",
          "text": [
            "5\n"
          ]
        }
      ],
      "source": [
        "list1 = [1,3,9,2,0,6,4,7,5,3]\n",
        "index1 = search_linear_1(6, list1)\n",
        "print(index1)"
      ]
    },
    {
      "cell_type": "code",
      "execution_count": 3,
      "metadata": {
        "colab": {
          "base_uri": "https://localhost:8080/"
        },
        "id": "7IbJtztk96cZ",
        "outputId": "53f68716-ab0d-455b-9ba8-c74a7b91302a"
      },
      "outputs": [
        {
          "name": "stdout",
          "output_type": "stream",
          "text": [
            "10\n"
          ]
        }
      ],
      "source": [
        "index1 = search_linear_1(8, list1)\n",
        "print(index1)"
      ]
    },
    {
      "cell_type": "code",
      "execution_count": 4,
      "metadata": {
        "id": "WoPA4DfH96eQ"
      },
      "outputs": [],
      "source": [
        "def search_linear(value, list):\n",
        "  index = 0\n",
        "  found = False\n",
        "  while not found and index < len(list):\n",
        "    if list[index] == value:\n",
        "      found = True\n",
        "    else:\n",
        "      index += 1\n",
        "  return index if index < len(list) else None"
      ]
    },
    {
      "cell_type": "code",
      "execution_count": 5,
      "metadata": {
        "colab": {
          "base_uri": "https://localhost:8080/"
        },
        "id": "bsDu3Qep96gK",
        "outputId": "d8a4ebeb-bcb7-46c3-d1be-2eb797b68914"
      },
      "outputs": [
        {
          "name": "stdout",
          "output_type": "stream",
          "text": [
            "None\n"
          ]
        }
      ],
      "source": [
        "index2 = search_linear(13, list1)\n",
        "print(index2)"
      ]
    },
    {
      "cell_type": "code",
      "execution_count": 6,
      "metadata": {
        "id": "SCNupYvG96iJ"
      },
      "outputs": [],
      "source": [
        "#wyszukiwanie binarne dotyczy tylko list posortowanych\n",
        "def search_binary(value, list):\n",
        "  start_idx = 0\n",
        "  end_idx = len(list) - 1\n",
        "  found = False\n",
        "  while not found and start_idx <= end_idx:\n",
        "    print(f\"DEBUG {start_idx} - {end_idx}\")\n",
        "    mid_idx = (start_idx + end_idx) // 2\n",
        "    if list[mid_idx] == value:\n",
        "      found = True\n",
        "    else:\n",
        "      if value < list[mid_idx]:\n",
        "        end_idx = mid_idx - 1\n",
        "      else:\n",
        "        start_idx = mid_idx + 1\n",
        "  if found:\n",
        "    return mid_idx\n",
        "  else:\n",
        "    return None"
      ]
    },
    {
      "cell_type": "code",
      "execution_count": 7,
      "metadata": {
        "colab": {
          "base_uri": "https://localhost:8080/"
        },
        "id": "iVV9tUgT96mL",
        "outputId": "467f16dd-3d41-471f-a79a-c745303620dc"
      },
      "outputs": [
        {
          "name": "stdout",
          "output_type": "stream",
          "text": [
            "DEBUG 0 - 9\n",
            "DEBUG 5 - 9\n",
            "DEBUG 5 - 6\n",
            "DEBUG 6 - 6\n",
            "5 is on the [0, 1, 2, 3, 3, 4, 5, 6, 7, 9] on position 6\n"
          ]
        }
      ],
      "source": [
        "list3 = [0,1,2,3,3,4,5,6,7,9]\n",
        "value3 = 5\n",
        "idx_value3 = search_binary(value3, list3)\n",
        "print(f\"{value3} is on the {list3} on position {idx_value3}\")"
      ]
    },
    {
      "cell_type": "code",
      "execution_count": 8,
      "metadata": {
        "colab": {
          "base_uri": "https://localhost:8080/"
        },
        "id": "RhpgmQSX96yh",
        "outputId": "d66027bb-0011-4ff2-e5af-5bd362b66cca"
      },
      "outputs": [
        {
          "name": "stdout",
          "output_type": "stream",
          "text": [
            "DEBUG 0 - 9\n",
            "DEBUG 5 - 9\n",
            "DEBUG 5 - 6\n",
            "DEBUG 6 - 6\n",
            "5.5 is on the [0, 1, 2, 3, 3, 4, 5, 6, 7, 9] on position None\n"
          ]
        }
      ],
      "source": [
        "list3 = [0,1,2,3,3,4,5,6,7,9]\n",
        "value3 = 5.5\n",
        "idx_value3 = search_binary(value3, list3)\n",
        "print(f\"{value3} is on the {list3} on position {idx_value3}\")"
      ]
    },
    {
      "cell_type": "code",
      "execution_count": 9,
      "metadata": {
        "id": "mj8L2Xm1Fo4j"
      },
      "outputs": [],
      "source": [
        "car1 = {\n",
        "    \"name\" : \"BMW\",\n",
        "    \"prev\" : None,\n",
        "    \"next\" : None\n",
        "}\n",
        "\n",
        "car2 = {\n",
        "    \"name\" : \"Mercedes\",\n",
        "    \"prev\" : None,\n",
        "    \"next\" : None\n",
        "}\n",
        "\n",
        "car3 = {\n",
        "    \"name\" : \"OPEL\",\n",
        "    \"prev\" : None,\n",
        "    \"next\" : None\n",
        "}"
      ]
    },
    {
      "cell_type": "code",
      "execution_count": 10,
      "metadata": {
        "id": "FRCP9EWAFoyT"
      },
      "outputs": [],
      "source": [
        "def add_car_begin(my_collection, new_car):\n",
        "  new_car[\"next\"] = my_collection\n",
        "  new_car[\"prev\"] = None\n",
        "\n",
        "  if my_collection:\n",
        "    my_collection[\"prev\"] = new_car\n",
        "\n",
        "  my_collection = new_car\n",
        "  return my_collection"
      ]
    },
    {
      "cell_type": "code",
      "execution_count": 11,
      "metadata": {
        "id": "3QVDNM3NKgbf"
      },
      "outputs": [],
      "source": [
        "def add_car_end(my_collection, new_car):\n",
        "  if my_collection == None:\n",
        "    my_collection = new_car\n",
        "    new_car[\"next\"] = None\n",
        "    new_car[\"prev\"] = None\n",
        "    return my_collection\n",
        "\n",
        "  else:\n",
        "    car = my_collection\n",
        "\n",
        "    while car[\"next\"]:\n",
        "      car = car[\"next\"]\n",
        "\n",
        "    car[\"next\"] = new_car\n",
        "    new_car[\"next\"] = None\n",
        "    new_car[\"prev\"] = car\n",
        "    return my_collection"
      ]
    },
    {
      "cell_type": "code",
      "execution_count": 12,
      "metadata": {
        "colab": {
          "base_uri": "https://localhost:8080/"
        },
        "id": "vyc7c8eEKgdE",
        "outputId": "a5799c51-928f-45f4-c958-00e829d87bf1"
      },
      "outputs": [
        {
          "name": "stdout",
          "output_type": "stream",
          "text": [
            "BMW\n",
            "Mercedes\n",
            "OPEL\n"
          ]
        }
      ],
      "source": [
        "work = None\n",
        "work = add_car_end(work, car1)\n",
        "work = add_car_end(work, car2)\n",
        "work = add_car_end(work, car3)\n",
        "\n",
        "car = work\n",
        "while car:\n",
        "  print(car[\"name\"])\n",
        "  car = car[\"next\"]"
      ]
    }
  ],
  "metadata": {
    "colab": {
      "provenance": []
    },
    "kernelspec": {
      "display_name": "Python 3",
      "name": "python3"
    },
    "language_info": {
      "codemirror_mode": {
        "name": "ipython",
        "version": 3
      },
      "file_extension": ".py",
      "mimetype": "text/x-python",
      "name": "python",
      "nbconvert_exporter": "python",
      "pygments_lexer": "ipython3",
      "version": "3.9.6"
    }
  },
  "nbformat": 4,
  "nbformat_minor": 0
}
