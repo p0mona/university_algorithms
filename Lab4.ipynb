{
  "cells": [
    {
      "cell_type": "code",
      "execution_count": 1,
      "metadata": {
        "id": "0784tWg742qB"
      },
      "outputs": [],
      "source": [
        "def factorial(n):\n",
        "  if n < 0:\n",
        "    return \"Not exist\"\n",
        "  elif n == 0:\n",
        "    return 1\n",
        "  else:\n",
        "    return factorial(n - 1) * n"
      ]
    },
    {
      "cell_type": "code",
      "execution_count": 2,
      "metadata": {
        "colab": {
          "base_uri": "https://localhost:8080/",
          "height": 35
        },
        "id": "mqlgkeru454x",
        "outputId": "609eea38-6075-4598-ee0b-0605088dc646"
      },
      "outputs": [
        {
          "data": {
            "text/plain": [
              "'Not exist'"
            ]
          },
          "execution_count": 2,
          "metadata": {},
          "output_type": "execute_result"
        }
      ],
      "source": [
        "factorial(-1)"
      ]
    },
    {
      "cell_type": "code",
      "execution_count": 3,
      "metadata": {
        "colab": {
          "base_uri": "https://localhost:8080/"
        },
        "id": "GztI4G3v456w",
        "outputId": "b8eb75da-e572-4e74-a6b1-9efbdb215ce2"
      },
      "outputs": [
        {
          "data": {
            "text/plain": [
              "1"
            ]
          },
          "execution_count": 3,
          "metadata": {},
          "output_type": "execute_result"
        }
      ],
      "source": [
        "factorial(0)"
      ]
    },
    {
      "cell_type": "code",
      "execution_count": 4,
      "metadata": {
        "colab": {
          "base_uri": "https://localhost:8080/"
        },
        "id": "YepSIyYH458I",
        "outputId": "88dd22b6-410a-4607-9937-d3928ada220a"
      },
      "outputs": [
        {
          "data": {
            "text/plain": [
              "6"
            ]
          },
          "execution_count": 4,
          "metadata": {},
          "output_type": "execute_result"
        }
      ],
      "source": [
        "factorial(3)"
      ]
    },
    {
      "cell_type": "code",
      "execution_count": 5,
      "metadata": {
        "colab": {
          "base_uri": "https://localhost:8080/"
        },
        "id": "Ff03M_Zi45-B",
        "outputId": "dc058f7e-812f-4fad-fb5c-4eeda1755211"
      },
      "outputs": [
        {
          "data": {
            "text/plain": [
              "6227020800"
            ]
          },
          "execution_count": 5,
          "metadata": {},
          "output_type": "execute_result"
        }
      ],
      "source": [
        "factorial(13)"
      ]
    },
    {
      "cell_type": "code",
      "execution_count": 6,
      "metadata": {
        "id": "cCBny83L45_0"
      },
      "outputs": [],
      "source": [
        "#potęgowanie liczb R o wykładnikach naturalnych\n",
        "def power(x,n):\n",
        "  if n < 0:\n",
        "    return \"Not exist\"\n",
        "  elif n == 0:\n",
        "    return 1\n",
        "  else:\n",
        "    return power(x,n - 1) * x"
      ]
    },
    {
      "cell_type": "code",
      "execution_count": 7,
      "metadata": {
        "colab": {
          "base_uri": "https://localhost:8080/",
          "height": 35
        },
        "id": "S6KcP6XeKmqR",
        "outputId": "efb0030b-1e15-46b9-e97b-02c001ed912c"
      },
      "outputs": [
        {
          "data": {
            "text/plain": [
              "'Not exist'"
            ]
          },
          "execution_count": 7,
          "metadata": {},
          "output_type": "execute_result"
        }
      ],
      "source": [
        "power(5,-1)"
      ]
    },
    {
      "cell_type": "code",
      "execution_count": 8,
      "metadata": {
        "colab": {
          "base_uri": "https://localhost:8080/"
        },
        "id": "m90WdLNGKmtx",
        "outputId": "aa839450-a713-418b-f16a-adcb5459d35c"
      },
      "outputs": [
        {
          "data": {
            "text/plain": [
              "1"
            ]
          },
          "execution_count": 8,
          "metadata": {},
          "output_type": "execute_result"
        }
      ],
      "source": [
        "power(9,0)"
      ]
    },
    {
      "cell_type": "code",
      "execution_count": 9,
      "metadata": {
        "colab": {
          "base_uri": "https://localhost:8080/"
        },
        "id": "1jxce2RL46D5",
        "outputId": "938b6df9-4db4-45ad-ba70-12c4b61c1391"
      },
      "outputs": [
        {
          "data": {
            "text/plain": [
              "0.25"
            ]
          },
          "execution_count": 9,
          "metadata": {},
          "output_type": "execute_result"
        }
      ],
      "source": [
        "power(0.5,2)"
      ]
    },
    {
      "cell_type": "code",
      "execution_count": 10,
      "metadata": {
        "colab": {
          "base_uri": "https://localhost:8080/"
        },
        "id": "TPI95uv8MgK9",
        "outputId": "fe4dfeb0-ce57-418c-f5e4-e5e1d0ba5529"
      },
      "outputs": [
        {
          "data": {
            "text/plain": [
              "32"
            ]
          },
          "execution_count": 10,
          "metadata": {},
          "output_type": "execute_result"
        }
      ],
      "source": [
        "power(2,5)"
      ]
    },
    {
      "cell_type": "code",
      "execution_count": 11,
      "metadata": {
        "id": "fTwgkOxyM1wO"
      },
      "outputs": [],
      "source": [
        "def power1(x,n):\n",
        "  if n < 0:\n",
        "    return \"Not exist\"\n",
        "  if n == 0:\n",
        "    return 1\n",
        "  return power1(x,n - 1) * x"
      ]
    }
  ],
  "metadata": {
    "colab": {
      "provenance": []
    },
    "kernelspec": {
      "display_name": "Python 3",
      "name": "python3"
    },
    "language_info": {
      "codemirror_mode": {
        "name": "ipython",
        "version": 3
      },
      "file_extension": ".py",
      "mimetype": "text/x-python",
      "name": "python",
      "nbconvert_exporter": "python",
      "pygments_lexer": "ipython3",
      "version": "3.9.6"
    }
  },
  "nbformat": 4,
  "nbformat_minor": 0
}
