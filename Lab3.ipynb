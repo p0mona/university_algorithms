{
  "cells": [
    {
      "cell_type": "code",
      "execution_count": 1,
      "metadata": {
        "colab": {
          "base_uri": "https://localhost:8080/"
        },
        "id": "oUZ-Pujp2vvm",
        "outputId": "cfd7922e-efed-4f0a-e80d-9053b026badc"
      },
      "outputs": [
        {
          "name": "stdout",
          "output_type": "stream",
          "text": [
            "11 55\n"
          ]
        }
      ],
      "source": [
        "a = 55\n",
        "b = 11\n",
        "a, b = b, a\n",
        "print(a,b)"
      ]
    },
    {
      "cell_type": "code",
      "execution_count": 2,
      "metadata": {
        "id": "6Q7qhFW925wa"
      },
      "outputs": [],
      "source": [
        "def sort_bubble(list):\n",
        "  is_change = True\n",
        "  while is_change:\n",
        "    is_change = False\n",
        "    for i in range(len(list)-1):\n",
        "      if list[i] > list[i+1]:\n",
        "        list[i],list[i+1] = list[i+1], list[i]\n",
        "        is_change = True"
      ]
    },
    {
      "cell_type": "code",
      "execution_count": 3,
      "metadata": {
        "id": "7-KuPHJB25yK"
      },
      "outputs": [],
      "source": [
        "list = [8,7,6,5,1,3,4,7]"
      ]
    },
    {
      "cell_type": "code",
      "execution_count": 4,
      "metadata": {
        "colab": {
          "base_uri": "https://localhost:8080/"
        },
        "id": "bPcxQN4k251q",
        "outputId": "190d912a-e866-40e5-c0a9-131e10f4a040"
      },
      "outputs": [
        {
          "data": {
            "text/plain": [
              "[1, 3, 4, 5, 6, 7, 7, 8]"
            ]
          },
          "execution_count": 4,
          "metadata": {},
          "output_type": "execute_result"
        }
      ],
      "source": [
        "sort_bubble(list)\n",
        "list"
      ]
    },
    {
      "cell_type": "code",
      "execution_count": 5,
      "metadata": {
        "id": "XFdxEd3a253S"
      },
      "outputs": [],
      "source": [
        "def sort_bubble_2(list):\n",
        "  max_index = len(list) - 1\n",
        "  for max_not_sorted_index in range(max_index,0,-1):\n",
        "    is_change = False\n",
        "    for i in range(max_not_sorted_index):\n",
        "      if list[i] > list[i+1]:\n",
        "        list[i],list[i+1] = list[i+1], list[i]\n",
        "        is_change = True\n",
        "    if not is_change:\n",
        "      break"
      ]
    },
    {
      "cell_type": "code",
      "execution_count": 6,
      "metadata": {
        "id": "WIl-b0jb255T"
      },
      "outputs": [],
      "source": [
        "list_2 = [1,3,5,8,8,9,7,2]"
      ]
    },
    {
      "cell_type": "code",
      "execution_count": 7,
      "metadata": {
        "colab": {
          "base_uri": "https://localhost:8080/"
        },
        "id": "m3i5vLam2566",
        "outputId": "cfc02d61-08bb-493a-d333-1b9f9428c6df"
      },
      "outputs": [
        {
          "data": {
            "text/plain": [
              "[1, 2, 3, 5, 7, 8, 8, 9]"
            ]
          },
          "execution_count": 7,
          "metadata": {},
          "output_type": "execute_result"
        }
      ],
      "source": [
        "sort_bubble_2(list_2)\n",
        "list_2"
      ]
    },
    {
      "cell_type": "code",
      "execution_count": 8,
      "metadata": {
        "id": "TTW7qFVI25-b"
      },
      "outputs": [],
      "source": [
        "def sort_insert(list):\n",
        "  for sort_border in range(1, len(list)):\n",
        "    curr_pos = sort_border - 1\n",
        "    value = list[curr_pos + 1]\n",
        "    while list[curr_pos] > value and curr_pos >= 0:\n",
        "      list[curr_pos + 1] = list[curr_pos]\n",
        "      curr_pos = curr_pos - 1\n",
        "\n",
        "    list[curr_pos + 1] = value\n",
        "    print(f\"Debug {sort_border} - {list}\")"
      ]
    },
    {
      "cell_type": "code",
      "execution_count": 9,
      "metadata": {
        "id": "3BlmV5yx26FL"
      },
      "outputs": [],
      "source": [
        "list_3 = [1,3,9,2,0,6,4,7,5]"
      ]
    },
    {
      "cell_type": "code",
      "execution_count": 10,
      "metadata": {
        "colab": {
          "base_uri": "https://localhost:8080/"
        },
        "id": "CmCSV8kU26Hj",
        "outputId": "712b48a8-f58a-49aa-9d54-0e933d6e9286"
      },
      "outputs": [
        {
          "name": "stdout",
          "output_type": "stream",
          "text": [
            "Debug 1 - [1, 3, 9, 2, 0, 6, 4, 7, 5]\n",
            "Debug 2 - [1, 3, 9, 2, 0, 6, 4, 7, 5]\n",
            "Debug 3 - [1, 2, 3, 9, 0, 6, 4, 7, 5]\n",
            "Debug 4 - [0, 1, 2, 3, 9, 6, 4, 7, 5]\n",
            "Debug 5 - [0, 1, 2, 3, 6, 9, 4, 7, 5]\n",
            "Debug 6 - [0, 1, 2, 3, 4, 6, 9, 7, 5]\n",
            "Debug 7 - [0, 1, 2, 3, 4, 6, 7, 9, 5]\n",
            "Debug 8 - [0, 1, 2, 3, 4, 5, 6, 7, 9]\n"
          ]
        }
      ],
      "source": [
        "sort_insert(list_3)"
      ]
    },
    {
      "cell_type": "code",
      "execution_count": 11,
      "metadata": {
        "id": "9nH4UupD26Ji"
      },
      "outputs": [],
      "source": [
        "def sort_selection(list):\n",
        "  for start in range(len(list)):\n",
        "    min_pos = start\n",
        "    for i in range(start + 1, len(list)):\n",
        "      if list[i] < list[min_pos]:\n",
        "        min_pos = i\n",
        "    list[start], list[ min_pos] = list[min_pos], list[start]\n",
        "    print(f\"Run {start}, list {list}\")"
      ]
    },
    {
      "cell_type": "code",
      "execution_count": 12,
      "metadata": {
        "id": "RSiv93lQ26La"
      },
      "outputs": [],
      "source": [
        "list_4 = [2,5,7,3,7,9,1,8,3,23]"
      ]
    },
    {
      "cell_type": "code",
      "execution_count": 13,
      "metadata": {
        "colab": {
          "base_uri": "https://localhost:8080/"
        },
        "id": "weauV6ug8_rP",
        "outputId": "388a6af0-10f3-4350-d1d0-f6cb750154d7"
      },
      "outputs": [
        {
          "name": "stdout",
          "output_type": "stream",
          "text": [
            "Run 0, list [1, 5, 7, 3, 7, 9, 2, 8, 3, 23]\n",
            "Run 1, list [1, 2, 7, 3, 7, 9, 5, 8, 3, 23]\n",
            "Run 2, list [1, 2, 3, 7, 7, 9, 5, 8, 3, 23]\n",
            "Run 3, list [1, 2, 3, 3, 7, 9, 5, 8, 7, 23]\n",
            "Run 4, list [1, 2, 3, 3, 5, 9, 7, 8, 7, 23]\n",
            "Run 5, list [1, 2, 3, 3, 5, 7, 9, 8, 7, 23]\n",
            "Run 6, list [1, 2, 3, 3, 5, 7, 7, 8, 9, 23]\n",
            "Run 7, list [1, 2, 3, 3, 5, 7, 7, 8, 9, 23]\n",
            "Run 8, list [1, 2, 3, 3, 5, 7, 7, 8, 9, 23]\n",
            "Run 9, list [1, 2, 3, 3, 5, 7, 7, 8, 9, 23]\n"
          ]
        }
      ],
      "source": [
        "sort_selection(list_4)"
      ]
    }
  ],
  "metadata": {
    "colab": {
      "provenance": []
    },
    "kernelspec": {
      "display_name": "Python 3",
      "name": "python3"
    },
    "language_info": {
      "codemirror_mode": {
        "name": "ipython",
        "version": 3
      },
      "file_extension": ".py",
      "mimetype": "text/x-python",
      "name": "python",
      "nbconvert_exporter": "python",
      "pygments_lexer": "ipython3",
      "version": "3.9.6"
    }
  },
  "nbformat": 4,
  "nbformat_minor": 0
}
