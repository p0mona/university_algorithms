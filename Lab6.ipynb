{
  "cells": [
    {
      "cell_type": "code",
      "execution_count": 1,
      "metadata": {
        "colab": {
          "base_uri": "https://localhost:8080/"
        },
        "id": "CYIojUmu1tR4",
        "outputId": "ddbe21b8-fb4b-493f-e40f-25c55798d86a"
      },
      "outputs": [
        {
          "data": {
            "text/plain": [
              "[5, 6, 7, 8, 8, 9, 15, 18, 20, 22, 34]"
            ]
          },
          "execution_count": 1,
          "metadata": {},
          "output_type": "execute_result"
        }
      ],
      "source": [
        "def divide(list, start_idx, end_idx):\n",
        "  i = start_idx\n",
        "  border_value= list[end_idx]\n",
        "\n",
        "  for j in range(start_idx,end_idx):\n",
        "    if list[j] <= border_value:\n",
        "      list[i], list[j] = list[j], list[i]\n",
        "      i += 1\n",
        "  list[i], list[end_idx] = list[end_idx], list[i]\n",
        "  return i\n",
        "\n",
        "def quick_sort(list, start_idx, end_idx):\n",
        "  if start_idx < end_idx:\n",
        "    border_index = divide(list, start_idx, end_idx)\n",
        "    quick_sort(list, start_idx, border_index - 1)\n",
        "    quick_sort(list, border_index + 1, end_idx)\n",
        "  return list\n",
        "\n",
        "list = [20, 7, 5, 8, 9, 8, 22, 34, 6, 18, 15]\n",
        "quick_sort(list, 0, len(list) - 1)"
      ]
    }
  ],
  "metadata": {
    "colab": {
      "provenance": []
    },
    "kernelspec": {
      "display_name": "Python 3",
      "name": "python3"
    },
    "language_info": {
      "codemirror_mode": {
        "name": "ipython",
        "version": 3
      },
      "file_extension": ".py",
      "mimetype": "text/x-python",
      "name": "python",
      "nbconvert_exporter": "python",
      "pygments_lexer": "ipython3",
      "version": "3.9.6"
    }
  },
  "nbformat": 4,
  "nbformat_minor": 0
}
