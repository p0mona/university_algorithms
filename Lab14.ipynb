{
  "cells": [
    {
      "cell_type": "code",
      "execution_count": 1,
      "metadata": {
        "colab": {
          "base_uri": "https://localhost:8080/"
        },
        "id": "FbQbyCcJgLvr",
        "outputId": "0cc16270-eb25-4dd2-f861-aa33db9b3f32"
      },
      "outputs": [
        {
          "name": "stdout",
          "output_type": "stream",
          "text": [
            "<__main__.Node object at 0x105dd9f40>\n"
          ]
        }
      ],
      "source": [
        "class Node:\n",
        "\n",
        "  def __init__(self, id, data):\n",
        "    self.id = id\n",
        "    self.data = data\n",
        "    self.left = None\n",
        "    self.right = None\n",
        "    self.level = None\n",
        "\n",
        "  # def __repr__(self):\n",
        "  #   return f\"<{self.id} / {self.level}>\"\n",
        "n1 = Node(10, \"root\")\n",
        "print(n1)"
      ]
    },
    {
      "cell_type": "code",
      "execution_count": 2,
      "metadata": {
        "colab": {
          "base_uri": "https://localhost:8080/"
        },
        "id": "WSJ2E5wxgw70",
        "outputId": "3c809708-a11f-4500-98a1-a6511a03b331"
      },
      "outputs": [
        {
          "name": "stdout",
          "output_type": "stream",
          "text": [
            "{'id': 10, 'data': 'node.left', 'left': None, 'right': None, 'level': None}\n"
          ]
        }
      ],
      "source": [
        "n2 = {\n",
        "    \"id\" : 10,\n",
        "    \"data\" : \"node.left\",\n",
        "    \"left\" : None,\n",
        "    \"right\" : None,\n",
        "    \"level\" : None\n",
        "}\n",
        "\n",
        "print(n2)"
      ]
    },
    {
      "cell_type": "code",
      "execution_count": 3,
      "metadata": {
        "colab": {
          "base_uri": "https://localhost:8080/"
        },
        "id": "B7y9iCc8hTmQ",
        "outputId": "e33ee026-27a0-498c-bcaa-958ccaf056fd"
      },
      "outputs": [
        {
          "name": "stdout",
          "output_type": "stream",
          "text": [
            "n3 - id 10, data root, left None, right None, level None\n"
          ]
        }
      ],
      "source": [
        "class Node:\n",
        "\n",
        "  def __init__(self, id, data):\n",
        "    self.id = id\n",
        "    self.data = data\n",
        "    self.left = None\n",
        "    self.right = None\n",
        "    self.level = None\n",
        "\n",
        "  # def __repr__(self):\n",
        "  #   return f\"<{self.id} / {self.level}>\"\n",
        "n3 = Node(10, \"root\")\n",
        "print(f\"n3 - id {n3.id}, data {n3.data}, left {n3.left}, right {n3.right}, level {n3.level}\")"
      ]
    },
    {
      "cell_type": "code",
      "execution_count": 4,
      "metadata": {
        "colab": {
          "base_uri": "https://localhost:8080/"
        },
        "id": "JoWaC7LZhwWn",
        "outputId": "d1e6592c-1dda-460b-e322-3f10c4abb301"
      },
      "outputs": [
        {
          "name": "stdout",
          "output_type": "stream",
          "text": [
            "<10 / None>\n"
          ]
        }
      ],
      "source": [
        "class Node:\n",
        "\n",
        "  def __init__(self, id, data):\n",
        "    self.id = id\n",
        "    self.data = data\n",
        "    self.left = None\n",
        "    self.right = None\n",
        "    self.level = None\n",
        "\n",
        "  def __repr__(self):\n",
        "    return f\"<{self.id} / {self.level}>\"\n",
        "n4 = Node(10, \"root\")\n",
        "print(n4)"
      ]
    },
    {
      "cell_type": "code",
      "execution_count": null,
      "metadata": {
        "colab": {
          "base_uri": "https://localhost:8080/"
        },
        "collapsed": true,
        "id": "3FuWvtruNmVX",
        "outputId": "077cb211-b082-41b3-a66b-63caf8ed8f43"
      },
      "outputs": [],
      "source": [
        "from time import time, sleep\n",
        "class Node:\n",
        "\n",
        "  def __init__(self, id, data):\n",
        "    self.id = id\n",
        "    self.data = data\n",
        "    self.left = None\n",
        "    self.right = None\n",
        "    self.level = None\n",
        "\n",
        "  def __repr__(self):\n",
        "    return f\"<{self.id} / {self.level}>\"\n",
        "\n",
        "def insert(parent, child, level = 0):\n",
        "  if parent is None:\n",
        "    child.level = level\n",
        "    return child\n",
        "\n",
        "  elif parent.id == child.id:\n",
        "    return parent\n",
        "\n",
        "  elif child.id < parent.id:\n",
        "    parent.left = insert(parent.left, child, parent.level + 1)\n",
        "\n",
        "  else:\n",
        "    parent.right = insert(parent.right, child, parent.level + 1)\n",
        "\n",
        "  return parent\n",
        "\n",
        "def load_stock_file(file_name):\n",
        "  bst = None\n",
        "  file = open(file_name, 'r')\n",
        "  line = file.readline()\n",
        "  line_number = 0\n",
        "\n",
        "  while True:\n",
        "    line = file.readline()\n",
        "    if not line:\n",
        "      break\n",
        "    data = line.split(\",\")\n",
        "    line_number += 1\n",
        "    print(line_number, data[0], data[1])\n",
        "    node = Node(data[0], data[1])\n",
        "    bst = insert(bst, node)\n",
        "\n",
        "  file.close()\n",
        "  return bst\n",
        "\n",
        "stock_file = \"/content/stock - stock.csv\"\n",
        "\n",
        "bst = load_stock_file(stock_file)\n",
        "\n"
      ]
    },
    {
      "cell_type": "code",
      "execution_count": null,
      "metadata": {
        "colab": {
          "base_uri": "https://localhost:8080/"
        },
        "id": "-cUC-INqNqQI",
        "outputId": "a40ffe55-79ed-4de1-ce9a-2041d2cc41c5"
      },
      "outputs": [],
      "source": [
        "def max_level(node):\n",
        "  if node is None:\n",
        "    return 0\n",
        "\n",
        "  elif node.left is None and node.right is None:\n",
        "    return 0\n",
        "\n",
        "  else:\n",
        "    left_level = max_level(node.left) + 1\n",
        "    right_level = max_level(node.right) + 1\n",
        "    return max(left_level, right_level)\n",
        "\n",
        "print(f\"Max level: {max_level(bst)}\")\n",
        "print(f\"Balance info: nodes on left: {max_level(bst.left)} nodes on right: {max_level(bst.right)}\")\n",
        "\n",
        "def count(node, delay = 0):\n",
        "  sleep(delay)\n",
        "  if node is None:\n",
        "    return 0\n",
        "\n",
        "  else:\n",
        "    left_count = count(node.left, delay)\n",
        "    right_count = count(node.right, delay)\n",
        "    return left_count + right_count + 1\n",
        "\n",
        "print(f\"Count: {count(bst)}\")\n",
        "print(f\"Balance info: nodes on left: {count(bst.left)} nodes on right: {count(bst.right)}\")\n",
        "\n",
        "start_time = time()\n",
        "count(bst.left, 0.001)\n",
        "print(f'Operation on left {time() - start_time} s')\n",
        "\n",
        "start_time = time()\n",
        "count(bst.right, 0.001)\n",
        "print(f'Operation on right {time() - start_time} s')"
      ]
    },
    {
      "cell_type": "code",
      "execution_count": null,
      "metadata": {
        "id": "a4VRGqIJNqTg"
      },
      "outputs": [],
      "source": [
        "def get_ordered_list(parent, nodes_list):\n",
        "  if not parent:\n",
        "    return\n",
        "  get_ordered_list(parent.left, nodes_list)\n",
        "  nodes_list.append(parent)\n",
        "  get_ordered_list(parent.right, nodes_list)\n",
        "\n",
        "# nodes_list = []\n",
        "# get_ordered_list(bst, nodes_list)\n",
        "\n",
        "# for node in nodes_list:\n",
        "#   print(node)"
      ]
    },
    {
      "cell_type": "code",
      "execution_count": null,
      "metadata": {
        "colab": {
          "base_uri": "https://localhost:8080/"
        },
        "id": "Rh7ILl66NqXw",
        "outputId": "655d2be4-3958-46e6-b2ff-cfaedb6427ec"
      },
      "outputs": [
        {
          "name": "stdout",
          "output_type": "stream",
          "text": [
            "Max level: 12\n",
            "Count: 4847\n",
            "Balance info: nodes on left: 2423 nodes on right: 2423\n"
          ]
        }
      ],
      "source": [
        "def build_bst_partially(nodes_list, first_idx, last_idx):\n",
        "  if first_idx > last_idx:\n",
        "    return None\n",
        "\n",
        "  middle_idx = (first_idx + last_idx ) // 2\n",
        "  middle_node = nodes_list[middle_idx]\n",
        "  middle_node.left = build_bst_partially(nodes_list, first_idx, middle_idx - 1)\n",
        "  middle_node.right = build_bst_partially(nodes_list, middle_idx + 1, last_idx)\n",
        "\n",
        "  return middle_node\n",
        "\n",
        "\n",
        "def rebuild_bst(bst):\n",
        "  nodes_list = []\n",
        "  get_ordered_list(bst, nodes_list)\n",
        "\n",
        "  first_idx = 0\n",
        "  last_idx = len(nodes_list) - 1\n",
        "\n",
        "  return build_bst_partially(nodes_list, first_idx, last_idx)\n",
        "\n",
        "bst = rebuild_bst(bst)\n",
        "print(f\"Max level: {max_level(bst)}\")\n",
        "print(f\"Count: {count(bst)}\")\n",
        "print(f\"Balance info: nodes on left: {count(bst.left)} nodes on right: {count(bst.right)}\")"
      ]
    }
  ],
  "metadata": {
    "colab": {
      "provenance": []
    },
    "kernelspec": {
      "display_name": "Python 3",
      "name": "python3"
    },
    "language_info": {
      "codemirror_mode": {
        "name": "ipython",
        "version": 3
      },
      "file_extension": ".py",
      "mimetype": "text/x-python",
      "name": "python",
      "nbconvert_exporter": "python",
      "pygments_lexer": "ipython3",
      "version": "3.9.6"
    }
  },
  "nbformat": 4,
  "nbformat_minor": 0
}
