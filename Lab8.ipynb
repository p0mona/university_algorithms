{
  "cells": [
    {
      "cell_type": "code",
      "execution_count": 1,
      "metadata": {
        "id": "z69EHfUwb29s"
      },
      "outputs": [],
      "source": [
        "car1 = {\n",
        "    \"name\" : \"BMW\",\n",
        "    \"prev\" : None,\n",
        "    \"next\" : None\n",
        "}\n",
        "\n",
        "car2 = {\n",
        "    \"name\" : \"Mercedes\",\n",
        "    \"prev\" : None,\n",
        "    \"next\" : None\n",
        "}\n",
        "\n",
        "car3 = {\n",
        "    \"name\" : \"OPEL\",\n",
        "    \"prev\" : None,\n",
        "    \"next\" : None\n",
        "}"
      ]
    },
    {
      "cell_type": "code",
      "execution_count": 2,
      "metadata": {
        "id": "aK2qcRTXb5hV"
      },
      "outputs": [],
      "source": [
        "def add_car_begin(my_collection, new_car):\n",
        "  new_car[\"next\"] = my_collection\n",
        "  new_car[\"prev\"] = None\n",
        "\n",
        "  if my_collection:\n",
        "    my_collection[\"prev\"] = new_car\n",
        "\n",
        "  my_collection = new_car\n",
        "  return my_collection"
      ]
    },
    {
      "cell_type": "code",
      "execution_count": 3,
      "metadata": {
        "id": "bF0jRSKJb5jP"
      },
      "outputs": [],
      "source": [
        "def add_car_end(my_collection, new_car):\n",
        "  if my_collection == None:\n",
        "    my_collection = new_car\n",
        "    new_car[\"next\"] = None\n",
        "    new_car[\"prev\"] = None\n",
        "    return my_collection\n",
        "\n",
        "  else:\n",
        "    car = my_collection\n",
        "\n",
        "    while car[\"next\"]:\n",
        "      car = car[\"next\"]\n",
        "\n",
        "    car[\"next\"] = new_car\n",
        "    new_car[\"next\"] = None\n",
        "    new_car[\"prev\"] = car\n",
        "    return my_collection"
      ]
    },
    {
      "cell_type": "code",
      "execution_count": 4,
      "metadata": {
        "id": "Fy1pNVltcAdS"
      },
      "outputs": [
        {
          "name": "stdout",
          "output_type": "stream",
          "text": [
            "BMW\n",
            "Mercedes\n",
            "OPEL\n"
          ]
        }
      ],
      "source": [
        "work = None\n",
        "work = add_car_end(work, car1)\n",
        "work = add_car_end(work, car2)\n",
        "work = add_car_end(work, car3)\n",
        "\n",
        "car = work\n",
        "while car:\n",
        "  print(car[\"name\"])\n",
        "  car = car[\"next\"]"
      ]
    }
  ],
  "metadata": {
    "colab": {
      "provenance": []
    },
    "kernelspec": {
      "display_name": "Python 3",
      "name": "python3"
    },
    "language_info": {
      "codemirror_mode": {
        "name": "ipython",
        "version": 3
      },
      "file_extension": ".py",
      "mimetype": "text/x-python",
      "name": "python",
      "nbconvert_exporter": "python",
      "pygments_lexer": "ipython3",
      "version": "3.9.6"
    }
  },
  "nbformat": 4,
  "nbformat_minor": 0
}
