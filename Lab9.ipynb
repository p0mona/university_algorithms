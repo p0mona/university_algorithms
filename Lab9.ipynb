{
  "cells": [
    {
      "cell_type": "code",
      "execution_count": 1,
      "metadata": {
        "id": "WSnywarH7eqw"
      },
      "outputs": [],
      "source": [
        "car1 = {\n",
        "    \"name\" : \"BMW\",\n",
        "    \"prev\" : None,\n",
        "    \"next\" : None\n",
        "}\n",
        "\n",
        "car2 = {\n",
        "    \"name\" : \"Mercedes\",\n",
        "    \"prev\" : None,\n",
        "    \"next\" : None\n",
        "}\n",
        "\n",
        "car3 = {\n",
        "    \"name\" : \"OPEL\",\n",
        "    \"prev\" : None,\n",
        "    \"next\" : None\n",
        "}"
      ]
    },
    {
      "cell_type": "code",
      "execution_count": 3,
      "metadata": {
        "id": "BfBB0YcJ7jEu"
      },
      "outputs": [],
      "source": [
        "def add_car_begin(my_collection, new_car):\n",
        "  new_car[\"next\"] = my_collection\n",
        "  new_car[\"prev\"] = None\n",
        "\n",
        "  if my_collection:\n",
        "    my_collection[\"prev\"] = new_car\n",
        "\n",
        "  my_collection = new_car\n",
        "  return my_collection"
      ]
    },
    {
      "cell_type": "code",
      "execution_count": 4,
      "metadata": {
        "id": "zNg8frZs7jIO"
      },
      "outputs": [],
      "source": [
        "def add_car_end(my_collection, new_car):\n",
        "  if my_collection == None:\n",
        "    my_collection = new_car\n",
        "    new_car[\"next\"] = None\n",
        "    new_car[\"prev\"] = None\n",
        "    return my_collection\n",
        "\n",
        "  else:\n",
        "    car = my_collection\n",
        "\n",
        "    while car[\"next\"]:\n",
        "      car = car[\"next\"]\n",
        "\n",
        "    car[\"next\"] = new_car\n",
        "    new_car[\"next\"] = None\n",
        "    new_car[\"prev\"] = car\n",
        "    return my_collection"
      ]
    },
    {
      "cell_type": "code",
      "execution_count": 5,
      "metadata": {
        "colab": {
          "base_uri": "https://localhost:8080/"
        },
        "id": "VRtvO5ss7jL9",
        "outputId": "c95f28db-e663-4571-9145-9ef77e11fe7a"
      },
      "outputs": [
        {
          "name": "stdout",
          "output_type": "stream",
          "text": [
            "BMW\n",
            "Mercedes\n",
            "OPEL\n"
          ]
        }
      ],
      "source": [
        "work = None\n",
        "work = add_car_end(work, car1)\n",
        "work = add_car_end(work, car2)\n",
        "work = add_car_end(work, car3)\n",
        "\n",
        "car = work\n",
        "while car:\n",
        "  print(car[\"name\"])\n",
        "  car = car[\"next\"]"
      ]
    },
    {
      "cell_type": "code",
      "execution_count": 6,
      "metadata": {
        "id": "20Je4i2s7jPf"
      },
      "outputs": [],
      "source": [
        "def del_car_begin(my_collection):\n",
        "  car = my_collection\n",
        "  if car:\n",
        "    my_collection = car[\"next\"]\n",
        "    if my_collection:\n",
        "      my_collection[\"prev\"] = None\n",
        "  return my_collection, car"
      ]
    },
    {
      "cell_type": "code",
      "execution_count": 7,
      "metadata": {
        "id": "Co7ATjaS7jRN"
      },
      "outputs": [],
      "source": [
        "work, car = del_car_begin(work)"
      ]
    },
    {
      "cell_type": "code",
      "execution_count": 8,
      "metadata": {
        "colab": {
          "base_uri": "https://localhost:8080/",
          "height": 35
        },
        "id": "H7NglvKu7jTF",
        "outputId": "d13b1835-a373-4964-ae56-ff2c20c55e61"
      },
      "outputs": [
        {
          "data": {
            "text/plain": [
              "'BMW'"
            ]
          },
          "execution_count": 8,
          "metadata": {},
          "output_type": "execute_result"
        }
      ],
      "source": [
        "car[\"name\"]"
      ]
    },
    {
      "cell_type": "code",
      "execution_count": 9,
      "metadata": {
        "colab": {
          "base_uri": "https://localhost:8080/"
        },
        "id": "wHIln3Cm7jU1",
        "outputId": "ed86d5c2-7f55-458d-9b8e-d6e1381ce151"
      },
      "outputs": [
        {
          "data": {
            "text/plain": [
              "{'name': 'Mercedes',\n",
              " 'prev': None,\n",
              " 'next': {'name': 'OPEL', 'prev': {...}, 'next': None}}"
            ]
          },
          "execution_count": 9,
          "metadata": {},
          "output_type": "execute_result"
        }
      ],
      "source": [
        "work"
      ]
    },
    {
      "cell_type": "code",
      "execution_count": 10,
      "metadata": {
        "id": "NZmXQf497jWV"
      },
      "outputs": [],
      "source": [
        "car4 = {\n",
        "    \"name\" : \"Mazda\",\n",
        "    \"prev\" : None,\n",
        "    \"next\" : None\n",
        "}"
      ]
    },
    {
      "cell_type": "code",
      "execution_count": 11,
      "metadata": {
        "id": "k4HJmNxn7jYX"
      },
      "outputs": [],
      "source": [
        "#FIFO\n",
        "work = add_car_end(work, car4)"
      ]
    },
    {
      "cell_type": "code",
      "execution_count": 12,
      "metadata": {
        "colab": {
          "base_uri": "https://localhost:8080/"
        },
        "id": "MTPiEJjeFRHF",
        "outputId": "ade01edc-ea69-4d78-f229-e6bd029de0af"
      },
      "outputs": [
        {
          "name": "stdout",
          "output_type": "stream",
          "text": [
            "Mercedes\n",
            "OPEL\n",
            "Mazda\n"
          ]
        }
      ],
      "source": [
        "car = work\n",
        "while car:\n",
        "  print(car[\"name\"])\n",
        "  car = car[\"next\"]"
      ]
    },
    {
      "cell_type": "code",
      "execution_count": 13,
      "metadata": {
        "id": "WPLXu_NnFRJO"
      },
      "outputs": [],
      "source": [
        "#LIFO\n",
        "car5 = {\n",
        "    \"name\" : \"FIAT 126p\",\n",
        "    \"prev\" : None,\n",
        "    \"next\" : None\n",
        "}"
      ]
    },
    {
      "cell_type": "code",
      "execution_count": 14,
      "metadata": {
        "id": "4wm5qW7UFRKj"
      },
      "outputs": [],
      "source": [
        "work = add_car_begin(work, car5)"
      ]
    },
    {
      "cell_type": "code",
      "execution_count": 15,
      "metadata": {
        "colab": {
          "base_uri": "https://localhost:8080/"
        },
        "id": "e_T3zXidFRMm",
        "outputId": "d9c62118-12a4-4f7c-ca27-630ef4ec683f"
      },
      "outputs": [
        {
          "name": "stdout",
          "output_type": "stream",
          "text": [
            "FIAT 126p\n",
            "Mercedes\n",
            "OPEL\n",
            "Mazda\n"
          ]
        }
      ],
      "source": [
        "car = work\n",
        "while car:\n",
        "  print(car[\"name\"])\n",
        "  car = car[\"next\"]"
      ]
    },
    {
      "cell_type": "code",
      "execution_count": 16,
      "metadata": {
        "id": "7aHsrwoxGYe1"
      },
      "outputs": [],
      "source": [
        "work, car = del_car_begin(work)"
      ]
    },
    {
      "cell_type": "code",
      "execution_count": 17,
      "metadata": {
        "colab": {
          "base_uri": "https://localhost:8080/"
        },
        "id": "qaqijl51GYks",
        "outputId": "9943f886-8d05-46b1-d870-b472ab16b42f"
      },
      "outputs": [
        {
          "name": "stdout",
          "output_type": "stream",
          "text": [
            "Mercedes\n",
            "OPEL\n",
            "Mazda\n"
          ]
        }
      ],
      "source": [
        "car = work\n",
        "while car:\n",
        "  print(car[\"name\"])\n",
        "  car = car[\"next\"]"
      ]
    },
    {
      "cell_type": "code",
      "execution_count": 18,
      "metadata": {
        "id": "KnjDvYLHGuoc"
      },
      "outputs": [],
      "source": [
        "#lista jako kolejka FIFO\n",
        "queue = [\"Skoda\", \"KIA\", \"Porche\", \"Volvo\"]"
      ]
    },
    {
      "cell_type": "code",
      "execution_count": 19,
      "metadata": {
        "id": "1zDkumjVGuqU"
      },
      "outputs": [],
      "source": [
        "queue.append(\"Tesla\")"
      ]
    },
    {
      "cell_type": "code",
      "execution_count": 20,
      "metadata": {
        "colab": {
          "base_uri": "https://localhost:8080/"
        },
        "id": "BjPxPYdEGuyc",
        "outputId": "a93f3e8a-2655-4ca2-f524-cff9080c17e9"
      },
      "outputs": [
        {
          "data": {
            "text/plain": [
              "['Skoda', 'KIA', 'Porche', 'Volvo', 'Tesla']"
            ]
          },
          "execution_count": 20,
          "metadata": {},
          "output_type": "execute_result"
        }
      ],
      "source": [
        "queue"
      ]
    },
    {
      "cell_type": "code",
      "execution_count": 21,
      "metadata": {
        "colab": {
          "base_uri": "https://localhost:8080/"
        },
        "id": "eCCpystwHiEg",
        "outputId": "0e129f8d-fb8d-473d-8ea7-3455e4bbfe20"
      },
      "outputs": [
        {
          "data": {
            "text/plain": [
              "['Skoda', 'KIA', 'Porche', 'Volvo', 'Tesla', 'Lamborgini']"
            ]
          },
          "execution_count": 21,
          "metadata": {},
          "output_type": "execute_result"
        }
      ],
      "source": [
        "queue.append(\"Lamborgini\")\n",
        "queue"
      ]
    },
    {
      "cell_type": "code",
      "execution_count": 22,
      "metadata": {
        "colab": {
          "base_uri": "https://localhost:8080/",
          "height": 35
        },
        "id": "CY5mBd8ZHi-_",
        "outputId": "2bac2ad7-3dde-4689-ecd6-d91fd060e63c"
      },
      "outputs": [
        {
          "data": {
            "text/plain": [
              "'Skoda'"
            ]
          },
          "execution_count": 22,
          "metadata": {},
          "output_type": "execute_result"
        }
      ],
      "source": [
        "queue.pop(0)\n"
      ]
    },
    {
      "cell_type": "code",
      "execution_count": 23,
      "metadata": {
        "colab": {
          "base_uri": "https://localhost:8080/"
        },
        "id": "KatEkUWFIPe6",
        "outputId": "1c1886b1-c797-487b-fff2-7b302f6486cf"
      },
      "outputs": [
        {
          "data": {
            "text/plain": [
              "['KIA', 'Porche', 'Volvo', 'Tesla', 'Lamborgini']"
            ]
          },
          "execution_count": 23,
          "metadata": {},
          "output_type": "execute_result"
        }
      ],
      "source": [
        "queue"
      ]
    },
    {
      "cell_type": "code",
      "execution_count": 24,
      "metadata": {
        "id": "bonzZMW9HjAz"
      },
      "outputs": [],
      "source": [
        "#lista jako stos\n",
        "stack = [0, 1, 34, 6, 48, 6]\n"
      ]
    },
    {
      "cell_type": "code",
      "execution_count": 25,
      "metadata": {
        "colab": {
          "base_uri": "https://localhost:8080/"
        },
        "id": "RFQqdjmYHjCt",
        "outputId": "c12dd98f-3069-4614-ae56-3e8d3c88154c"
      },
      "outputs": [
        {
          "data": {
            "text/plain": [
              "[0, 1, 34, 6, 48, 6, 8]"
            ]
          },
          "execution_count": 25,
          "metadata": {},
          "output_type": "execute_result"
        }
      ],
      "source": [
        "stack.append(8)\n",
        "stack"
      ]
    },
    {
      "cell_type": "code",
      "execution_count": 26,
      "metadata": {
        "colab": {
          "base_uri": "https://localhost:8080/"
        },
        "id": "KunSruuaJA2I",
        "outputId": "493bc367-ec72-43c3-da16-22195e06a174"
      },
      "outputs": [
        {
          "data": {
            "text/plain": [
              "8"
            ]
          },
          "execution_count": 26,
          "metadata": {},
          "output_type": "execute_result"
        }
      ],
      "source": [
        "stack.pop()"
      ]
    },
    {
      "cell_type": "code",
      "execution_count": 27,
      "metadata": {
        "colab": {
          "base_uri": "https://localhost:8080/"
        },
        "id": "PzXnBOwLJJrY",
        "outputId": "265408ed-ce3e-4e0c-b0bc-41fc24b739d1"
      },
      "outputs": [
        {
          "data": {
            "text/plain": [
              "[0, 1, 34, 6, 48, 6]"
            ]
          },
          "execution_count": 27,
          "metadata": {},
          "output_type": "execute_result"
        }
      ],
      "source": [
        "stack"
      ]
    },
    {
      "cell_type": "code",
      "execution_count": 28,
      "metadata": {
        "id": "ByqT3Y2IJLQI"
      },
      "outputs": [],
      "source": [
        "import queue"
      ]
    },
    {
      "cell_type": "code",
      "execution_count": 29,
      "metadata": {
        "id": "d_j-ChK5Ji3P"
      },
      "outputs": [],
      "source": [
        "fifo = queue.Queue()"
      ]
    },
    {
      "cell_type": "code",
      "execution_count": 30,
      "metadata": {
        "colab": {
          "base_uri": "https://localhost:8080/"
        },
        "id": "ud6pnegfJsxp",
        "outputId": "4a190099-0bc6-407a-f5b4-7f05cb5df37d"
      },
      "outputs": [
        {
          "data": {
            "text/plain": [
              "<queue.Queue at 0x105b0bfa0>"
            ]
          },
          "execution_count": 30,
          "metadata": {},
          "output_type": "execute_result"
        }
      ],
      "source": [
        "fifo"
      ]
    },
    {
      "cell_type": "code",
      "execution_count": 31,
      "metadata": {
        "id": "CEHo0wjxJvGY"
      },
      "outputs": [],
      "source": [
        "for i in range(0, 10):\n",
        "  fifo.put(i)"
      ]
    },
    {
      "cell_type": "code",
      "execution_count": 32,
      "metadata": {
        "colab": {
          "base_uri": "https://localhost:8080/"
        },
        "id": "JRCICRF7KHmY",
        "outputId": "eebad82e-edc5-4175-e11d-128ebd78ca41"
      },
      "outputs": [
        {
          "data": {
            "text/plain": [
              "10"
            ]
          },
          "execution_count": 32,
          "metadata": {},
          "output_type": "execute_result"
        }
      ],
      "source": [
        "fifo.qsize()"
      ]
    },
    {
      "cell_type": "code",
      "execution_count": 33,
      "metadata": {
        "colab": {
          "base_uri": "https://localhost:8080/"
        },
        "id": "QEIb2SVGKPb4",
        "outputId": "07aeadd2-bbc5-4a06-aaaa-2ee4b250cfb4"
      },
      "outputs": [
        {
          "name": "stdout",
          "output_type": "stream",
          "text": [
            "Getting 0, the queue size is 9\n",
            "Getting 1, the queue size is 8\n",
            "Getting 2, the queue size is 7\n",
            "Getting 3, the queue size is 6\n",
            "Getting 4, the queue size is 5\n",
            "Getting 5, the queue size is 4\n",
            "Getting 6, the queue size is 3\n",
            "Getting 7, the queue size is 2\n",
            "Getting 8, the queue size is 1\n",
            "Getting 9, the queue size is 0\n"
          ]
        }
      ],
      "source": [
        "while fifo.qsize() > 0:\n",
        "  print(f\"Getting {fifo.get()}, the queue size is {fifo.qsize()}\")"
      ]
    },
    {
      "cell_type": "code",
      "execution_count": 34,
      "metadata": {
        "id": "zFWNqD_YKp-Z"
      },
      "outputs": [],
      "source": [
        "lifo = queue.LifoQueue()"
      ]
    },
    {
      "cell_type": "code",
      "execution_count": 35,
      "metadata": {
        "colab": {
          "base_uri": "https://localhost:8080/"
        },
        "id": "ce8ky-VhK6da",
        "outputId": "792aff52-1c5a-4145-9028-4410a6a3ab81"
      },
      "outputs": [
        {
          "data": {
            "text/plain": [
              "<queue.LifoQueue at 0x105b0bb50>"
            ]
          },
          "execution_count": 35,
          "metadata": {},
          "output_type": "execute_result"
        }
      ],
      "source": [
        "lifo\n"
      ]
    },
    {
      "cell_type": "code",
      "execution_count": 36,
      "metadata": {
        "id": "S3k9v6-KK8Gp"
      },
      "outputs": [],
      "source": [
        "list = [\"Ala\", \"Ola\", \"Ela\", \"Pola\", \"Ula\", \"Jola\", \"Halina\" ]\n",
        "for i in list:\n",
        "  lifo.put(i)"
      ]
    },
    {
      "cell_type": "code",
      "execution_count": 37,
      "metadata": {
        "colab": {
          "base_uri": "https://localhost:8080/"
        },
        "id": "XsDNkIDLLM1S",
        "outputId": "8ab2bf50-ba1c-4e83-d3c1-d32a4e833644"
      },
      "outputs": [
        {
          "data": {
            "text/plain": [
              "7"
            ]
          },
          "execution_count": 37,
          "metadata": {},
          "output_type": "execute_result"
        }
      ],
      "source": [
        "lifo.qsize()"
      ]
    },
    {
      "cell_type": "code",
      "execution_count": 38,
      "metadata": {
        "colab": {
          "base_uri": "https://localhost:8080/"
        },
        "id": "gH2cVi7ELipm",
        "outputId": "13a0ea2a-6403-433e-8ac6-03e6ca94b26e"
      },
      "outputs": [
        {
          "name": "stdout",
          "output_type": "stream",
          "text": [
            "Getting Halina, the queue size is 6\n",
            "Getting Jola, the queue size is 5\n",
            "Getting Ula, the queue size is 4\n",
            "Getting Pola, the queue size is 3\n",
            "Getting Ela, the queue size is 2\n",
            "Getting Ola, the queue size is 1\n",
            "Getting Ala, the queue size is 0\n"
          ]
        }
      ],
      "source": [
        "while lifo.qsize() > 0:\n",
        "  print(f\"Getting {lifo.get()}, the queue size is {lifo.qsize()}\")"
      ]
    },
    {
      "cell_type": "code",
      "execution_count": 39,
      "metadata": {
        "id": "yXuJ0wCOLrlK"
      },
      "outputs": [],
      "source": [
        "#kolejki prioretytowe moduł Queue\n",
        "priority_q = queue.PriorityQueue()\n"
      ]
    },
    {
      "cell_type": "code",
      "execution_count": 40,
      "metadata": {
        "colab": {
          "base_uri": "https://localhost:8080/"
        },
        "id": "efUqC_-ML8kf",
        "outputId": "1782931b-4fc6-4d75-a12a-14cd00c38917"
      },
      "outputs": [
        {
          "data": {
            "text/plain": [
              "<queue.PriorityQueue at 0x105b2f400>"
            ]
          },
          "execution_count": 40,
          "metadata": {},
          "output_type": "execute_result"
        }
      ],
      "source": [
        "priority_q"
      ]
    },
    {
      "cell_type": "code",
      "execution_count": 41,
      "metadata": {
        "id": "KqqeGPzWMAtv"
      },
      "outputs": [],
      "source": [
        "priority_q.put((1, \"Task priority 1\"))\n",
        "priority_q.put((3, \"Task priority 3\"))\n",
        "priority_q.put((2, \"Task priority 2\"))\n",
        "priority_q.put((2, \"Task priority 2 - again\"))"
      ]
    },
    {
      "cell_type": "code",
      "execution_count": 42,
      "metadata": {
        "colab": {
          "base_uri": "https://localhost:8080/"
        },
        "id": "oKm7XgRGMcbC",
        "outputId": "0c7ab521-6cd6-4122-ceb2-1abf391df8db"
      },
      "outputs": [
        {
          "name": "stdout",
          "output_type": "stream",
          "text": [
            "Getting (1, 'Task priority 1'), the queue size is 3\n",
            "Getting (2, 'Task priority 2'), the queue size is 2\n",
            "Getting (2, 'Task priority 2 - again'), the queue size is 1\n",
            "Getting (3, 'Task priority 3'), the queue size is 0\n"
          ]
        }
      ],
      "source": [
        "while priority_q.qsize() > 0:\n",
        "  print(f\"Getting {priority_q.get()}, the queue size is {priority_q.qsize()}\")"
      ]
    }
  ],
  "metadata": {
    "colab": {
      "provenance": []
    },
    "kernelspec": {
      "display_name": "Python 3",
      "name": "python3"
    },
    "language_info": {
      "codemirror_mode": {
        "name": "ipython",
        "version": 3
      },
      "file_extension": ".py",
      "mimetype": "text/x-python",
      "name": "python",
      "nbconvert_exporter": "python",
      "pygments_lexer": "ipython3",
      "version": "3.9.6"
    }
  },
  "nbformat": 4,
  "nbformat_minor": 0
}
